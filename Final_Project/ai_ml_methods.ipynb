{
 "cells": [
  {
   "cell_type": "code",
   "execution_count": 1,
   "id": "7365f684",
   "metadata": {},
   "outputs": [],
   "source": [
    "import numpy as np\n",
    "import pandas as pd\n",
    "\n",
    "from matplotlib import pyplot as plt\n",
    "from sklearn.manifold import TSNE\n",
    "\n",
    "from sklearn.model_selection import train_test_split\n",
    "from sklearn.model_selection import KFold\n",
    "from sklearn.model_selection import cross_validate\n",
    "\n",
    "from sklearn.metrics import roc_curve\n",
    "from sklearn.metrics import roc_auc_score\n",
    "\n",
    "from sklearn.linear_model import LogisticRegression\n",
    "from sklearn.ensemble import RandomForestClassifier\n",
    "import xgboost as xgb\n",
    "from xgboost import XGBClassifier\n",
    "\n",
    "import hyperopt\n",
    "from hyperopt import hp, fmin, tpe, Trials, partial\n",
    "from hyperopt.early_stop import no_progress_loss\n",
    "\n",
    "import warnings\n",
    "warnings.filterwarnings('ignore')"
   ]
  },
  {
   "cell_type": "markdown",
   "id": "d3a99f3e",
   "metadata": {},
   "source": [
    "# AI Essays"
   ]
  },
  {
   "cell_type": "markdown",
   "id": "9097dce7",
   "metadata": {},
   "source": [
    "# Word2Vec"
   ]
  },
  {
   "cell_type": "code",
   "execution_count": 103,
   "id": "af3328d8",
   "metadata": {},
   "outputs": [],
   "source": [
    "w2v_embeds = np.load('ai_word2vec_embeddings.npy')\n",
    "labels = np.load('ai_labels.npy')"
   ]
  },
  {
   "cell_type": "code",
   "execution_count": 104,
   "id": "22a3ee6e",
   "metadata": {},
   "outputs": [],
   "source": [
    "w2v_X_train, w2v_X_test, y_train, y_test = train_test_split(w2v_embeds, labels, test_size=0.2, random_state=247)"
   ]
  },
  {
   "cell_type": "markdown",
   "id": "fc02eaf6",
   "metadata": {},
   "source": [
    "## Logistic Regression"
   ]
  },
  {
   "cell_type": "code",
   "execution_count": 6,
   "id": "c29d81df",
   "metadata": {},
   "outputs": [
    {
     "data": {
      "text/plain": [
       "LogisticRegression()"
      ]
     },
     "execution_count": 6,
     "metadata": {},
     "output_type": "execute_result"
    }
   ],
   "source": [
    "lg = LogisticRegression()\n",
    "lg.fit(w2v_X_train, y_train)"
   ]
  },
  {
   "cell_type": "code",
   "execution_count": 7,
   "id": "3e977d81",
   "metadata": {},
   "outputs": [],
   "source": [
    "lg_acc = lg.score(w2v_X_test, y_test)\n",
    "lg_auc = roc_auc_score(y_test, lg.predict_proba(w2v_X_test)[:,1])"
   ]
  },
  {
   "cell_type": "code",
   "execution_count": 8,
   "id": "32748bac",
   "metadata": {},
   "outputs": [
    {
     "data": {
      "text/plain": [
       "(0.9809572825527535, 0.9965992736122031)"
      ]
     },
     "execution_count": 8,
     "metadata": {},
     "output_type": "execute_result"
    }
   ],
   "source": [
    "lg_acc, lg_auc"
   ]
  },
  {
   "cell_type": "markdown",
   "id": "67f82787",
   "metadata": {},
   "source": [
    "## Random Forest"
   ]
  },
  {
   "cell_type": "code",
   "execution_count": 9,
   "id": "c47db3dc",
   "metadata": {},
   "outputs": [
    {
     "data": {
      "text/plain": [
       "RandomForestClassifier()"
      ]
     },
     "execution_count": 9,
     "metadata": {},
     "output_type": "execute_result"
    }
   ],
   "source": [
    "rf = RandomForestClassifier()\n",
    "rf.fit(w2v_X_train, y_train)"
   ]
  },
  {
   "cell_type": "code",
   "execution_count": 10,
   "id": "8e283cc7",
   "metadata": {},
   "outputs": [],
   "source": [
    "rf_acc = rf.score(w2v_X_test, y_test)\n",
    "rf_auc = roc_auc_score(y_test, rf.predict_proba(w2v_X_test)[:,1])"
   ]
  },
  {
   "cell_type": "code",
   "execution_count": 11,
   "id": "58af69e7",
   "metadata": {},
   "outputs": [
    {
     "data": {
      "text/plain": [
       "(0.981986618630983, 0.996556526880151)"
      ]
     },
     "execution_count": 11,
     "metadata": {},
     "output_type": "execute_result"
    }
   ],
   "source": [
    "rf_acc, rf_auc"
   ]
  },
  {
   "cell_type": "markdown",
   "id": "1e230023",
   "metadata": {},
   "source": [
    "## XGBoost"
   ]
  },
  {
   "cell_type": "markdown",
   "id": "d7e6a0f3",
   "metadata": {},
   "source": [
    "### Baseline"
   ]
  },
  {
   "cell_type": "code",
   "execution_count": 105,
   "id": "e59a0388",
   "metadata": {},
   "outputs": [],
   "source": [
    "w2v_X_train_xgb = xgb.DMatrix(w2v_X_train, y_train)\n",
    "w2v_X_test_xgb = xgb.DMatrix(w2v_X_test, y_test)"
   ]
  },
  {
   "cell_type": "code",
   "execution_count": 22,
   "id": "a9df2441",
   "metadata": {},
   "outputs": [],
   "source": [
    "params = {\"objective\": \"binary:logistic\"}\n",
    "reg = xgb.train(params, w2v_X_train_xgb, num_boost_round=100)"
   ]
  },
  {
   "cell_type": "code",
   "execution_count": 24,
   "id": "24c492cb",
   "metadata": {},
   "outputs": [],
   "source": [
    "xgb_base_acc = np.mean(y_test == np.where(reg.predict(w2v_X_test_xgb)>0.5, 1, 0))\n",
    "xgb_base_auc = roc_auc_score(y_test, reg.predict(w2v_X_test_xgb))"
   ]
  },
  {
   "cell_type": "code",
   "execution_count": 25,
   "id": "8b63a44a",
   "metadata": {},
   "outputs": [
    {
     "data": {
      "text/plain": [
       "(0.9876479670612455, 0.9984654107182064)"
      ]
     },
     "execution_count": 25,
     "metadata": {},
     "output_type": "execute_result"
    }
   ],
   "source": [
    "xgb_base_acc, xgb_base_auc"
   ]
  },
  {
   "cell_type": "markdown",
   "id": "b07aa78c",
   "metadata": {},
   "source": [
    "### Tuning"
   ]
  },
  {
   "cell_type": "code",
   "execution_count": 91,
   "id": "c22729c1",
   "metadata": {},
   "outputs": [],
   "source": [
    "def hyperopt_objective(params):\n",
    "    paramsforxgb = {\"eta\":params[\"eta\"]\n",
    "                    ,\"booster\":params[\"booster\"]\n",
    "                    ,\"colsample_bytree\":params[\"colsample_bytree\"]\n",
    "                    ,\"colsample_bynode\":params[\"colsample_bynode\"]\n",
    "                    ,\"gamma\":params[\"gamma\"]\n",
    "                    ,\"lambda\":params[\"lambda\"]\n",
    "                    ,\"subsample\":params[\"subsample\"]\n",
    "                    ,\"rate_drop\":params[\"rate_drop\"]\n",
    "                    ,\"objective\":\"binary:logistic\"\n",
    "                    ,\"nthread\":14\n",
    "                    ,\"verbosity\":0}\n",
    "    result = xgb.cv(params, w2v_X_train_xgb, seed=247, metrics=(\"error\")\n",
    "                    ,num_boost_round=int(params[\"num_boost_round\"]))\n",
    "    return result.iloc[-1,2]"
   ]
  },
  {
   "cell_type": "code",
   "execution_count": 95,
   "id": "57e8b685",
   "metadata": {},
   "outputs": [],
   "source": [
    "param_grid_simple = {'num_boost_round': hp.quniform(\"num_boost_round\",50,200,10)\n",
    "                     ,\"eta\": hp.quniform(\"eta\",0.05,2.05,0.05)\n",
    "                     ,\"booster\":hp.choice(\"booster\",[\"gbtree\",\"dart\"])\n",
    "                     ,\"colsample_bytree\":hp.quniform(\"colsample_bytree\",0.3,1,0.1)\n",
    "                     ,\"colsample_bynode\":hp.quniform(\"colsample_bynode\",0.1,1,0.1)\n",
    "                     ,\"gamma\":hp.quniform(\"gamma\",0,10,0.5)\n",
    "                     ,\"lambda\":hp.quniform(\"lambda\",0,10,0.5)\n",
    "                     ,\"subsample\":hp.quniform(\"subsample\",0.1,1,0.1)\n",
    "                     ,\"rate_drop\":hp.quniform(\"rate_drop\",0.1,1,0.1)\n",
    "                    }"
   ]
  },
  {
   "cell_type": "code",
   "execution_count": 96,
   "id": "8c8b2ef8",
   "metadata": {},
   "outputs": [],
   "source": [
    "def param_hyperopt(max_evals=100):\n",
    "    \n",
    "    trials = Trials()\n",
    "    \n",
    "    early_stop_fn = no_progress_loss(10)\n",
    "    \n",
    "    params_best = fmin(hyperopt_objective\n",
    "                       ,space = param_grid_simple\n",
    "                       ,algo = tpe.suggest\n",
    "                       ,max_evals = max_evals\n",
    "                       ,verbose=True\n",
    "                       ,trials = trials\n",
    "                       ,early_stop_fn = early_stop_fn\n",
    "                      )\n",
    "    \n",
    "    print(\"\\n\",\"\\n\",\"best params: \", params_best,\n",
    "          \"\\n\")\n",
    "    return params_best, trials"
   ]
  },
  {
   "cell_type": "code",
   "execution_count": 97,
   "id": "d23dafa1",
   "metadata": {},
   "outputs": [
    {
     "name": "stdout",
     "output_type": "stream",
     "text": [
      "[14:00:10] WARNING: /Users/runner/work/xgboost/xgboost/python-package/build/temp.macosx-10.9-x86_64-cpython-38/xgboost/src/learner.cc:767: \n",
      "Parameters: { \"num_boost_round\" } are not used.\n",
      "\n",
      "[14:00:10] WARNING: /Users/runner/work/xgboost/xgboost/python-package/build/temp.macosx-10.9-x86_64-cpython-38/xgboost/src/learner.cc:767: \n",
      "Parameters: { \"num_boost_round\" } are not used.\n",
      "\n",
      "[14:00:10] WARNING: /Users/runner/work/xgboost/xgboost/python-package/build/temp.macosx-10.9-x86_64-cpython-38/xgboost/src/learner.cc:767: \n",
      "Parameters: { \"num_boost_round\" } are not used.\n",
      "\n",
      "[14:01:22] WARNING: /Users/runner/work/xgboost/xgboost/python-package/build/temp.macosx-10.9-x86_64-cpython-38/xgboost/src/learner.cc:767: \n",
      "Parameters: { \"num_boost_round\" } are not used.\n",
      "\n",
      "[14:01:22] WARNING: /Users/runner/work/xgboost/xgboost/python-package/build/temp.macosx-10.9-x86_64-cpython-38/xgboost/src/learner.cc:767: \n",
      "Parameters: { \"num_boost_round\" } are not used.\n",
      "\n",
      "[14:01:22] WARNING: /Users/runner/work/xgboost/xgboost/python-package/build/temp.macosx-10.9-x86_64-cpython-38/xgboost/src/learner.cc:767: \n",
      "Parameters: { \"num_boost_round\" } are not used.\n",
      "\n",
      "[14:04:19] WARNING: /Users/runner/work/xgboost/xgboost/python-package/build/temp.macosx-10.9-x86_64-cpython-38/xgboost/src/learner.cc:767: \n",
      "Parameters: { \"num_boost_round\" } are not used.\n",
      "\n",
      "[14:04:19] WARNING: /Users/runner/work/xgboost/xgboost/python-package/build/temp.macosx-10.9-x86_64-cpython-38/xgboost/src/learner.cc:767: \n",
      "Parameters: { \"num_boost_round\" } are not used.\n",
      "\n",
      "[14:04:19] WARNING: /Users/runner/work/xgboost/xgboost/python-package/build/temp.macosx-10.9-x86_64-cpython-38/xgboost/src/learner.cc:767: \n",
      "Parameters: { \"num_boost_round\" } are not used.\n",
      "\n",
      "[14:09:17] WARNING: /Users/runner/work/xgboost/xgboost/python-package/build/temp.macosx-10.9-x86_64-cpython-38/xgboost/src/learner.cc:767: \n",
      "Parameters: { \"num_boost_round\", \"rate_drop\" } are not used.\n",
      "\n",
      "[14:09:17] WARNING: /Users/runner/work/xgboost/xgboost/python-package/build/temp.macosx-10.9-x86_64-cpython-38/xgboost/src/learner.cc:767: \n",
      "Parameters: { \"num_boost_round\", \"rate_drop\" } are not used.\n",
      "\n",
      "[14:09:17] WARNING: /Users/runner/work/xgboost/xgboost/python-package/build/temp.macosx-10.9-x86_64-cpython-38/xgboost/src/learner.cc:767: \n",
      "Parameters: { \"num_boost_round\", \"rate_drop\" } are not used.\n",
      "\n",
      "[14:09:22] WARNING: /Users/runner/work/xgboost/xgboost/python-package/build/temp.macosx-10.9-x86_64-cpython-38/xgboost/src/learner.cc:767: \n",
      "Parameters: { \"num_boost_round\" } are not used.\n",
      "\n",
      "[14:09:23] WARNING: /Users/runner/work/xgboost/xgboost/python-package/build/temp.macosx-10.9-x86_64-cpython-38/xgboost/src/learner.cc:767: \n",
      "Parameters: { \"num_boost_round\" } are not used.\n",
      "\n",
      "[14:09:23] WARNING: /Users/runner/work/xgboost/xgboost/python-package/build/temp.macosx-10.9-x86_64-cpython-38/xgboost/src/learner.cc:767: \n",
      "Parameters: { \"num_boost_round\" } are not used.\n",
      "\n",
      "[14:14:59] WARNING: /Users/runner/work/xgboost/xgboost/python-package/build/temp.macosx-10.9-x86_64-cpython-38/xgboost/src/learner.cc:767: \n",
      "Parameters: { \"num_boost_round\" } are not used.\n",
      "\n",
      "[14:14:59] WARNING: /Users/runner/work/xgboost/xgboost/python-package/build/temp.macosx-10.9-x86_64-cpython-38/xgboost/src/learner.cc:767: \n",
      "Parameters: { \"num_boost_round\" } are not used.\n",
      "\n",
      "[14:14:59] WARNING: /Users/runner/work/xgboost/xgboost/python-package/build/temp.macosx-10.9-x86_64-cpython-38/xgboost/src/learner.cc:767: \n",
      "Parameters: { \"num_boost_round\" } are not used.\n",
      "\n",
      "[14:15:51] WARNING: /Users/runner/work/xgboost/xgboost/python-package/build/temp.macosx-10.9-x86_64-cpython-38/xgboost/src/learner.cc:767: \n",
      "Parameters: { \"num_boost_round\", \"rate_drop\" } are not used.\n",
      "\n",
      "[14:15:51] WARNING: /Users/runner/work/xgboost/xgboost/python-package/build/temp.macosx-10.9-x86_64-cpython-38/xgboost/src/learner.cc:767: \n",
      "Parameters: { \"num_boost_round\", \"rate_drop\" } are not used.\n",
      "\n",
      "[14:15:51] WARNING: /Users/runner/work/xgboost/xgboost/python-package/build/temp.macosx-10.9-x86_64-cpython-38/xgboost/src/learner.cc:767: \n",
      "Parameters: { \"num_boost_round\", \"rate_drop\" } are not used.\n",
      "\n",
      "[14:16:15] WARNING: /Users/runner/work/xgboost/xgboost/python-package/build/temp.macosx-10.9-x86_64-cpython-38/xgboost/src/learner.cc:767: \n",
      "Parameters: { \"num_boost_round\", \"rate_drop\" } are not used.\n",
      "\n",
      "[14:16:16] WARNING: /Users/runner/work/xgboost/xgboost/python-package/build/temp.macosx-10.9-x86_64-cpython-38/xgboost/src/learner.cc:767: \n",
      "Parameters: { \"num_boost_round\", \"rate_drop\" } are not used.\n",
      "\n",
      "[14:16:16] WARNING: /Users/runner/work/xgboost/xgboost/python-package/build/temp.macosx-10.9-x86_64-cpython-38/xgboost/src/learner.cc:767: \n",
      "Parameters: { \"num_boost_round\", \"rate_drop\" } are not used.\n",
      "\n",
      "[14:17:07] WARNING: /Users/runner/work/xgboost/xgboost/python-package/build/temp.macosx-10.9-x86_64-cpython-38/xgboost/src/learner.cc:767: \n",
      "Parameters: { \"num_boost_round\", \"rate_drop\" } are not used.\n",
      "\n",
      "[14:17:07] WARNING: /Users/runner/work/xgboost/xgboost/python-package/build/temp.macosx-10.9-x86_64-cpython-38/xgboost/src/learner.cc:767: \n",
      "Parameters: { \"num_boost_round\", \"rate_drop\" } are not used.\n",
      "\n",
      "[14:17:07] WARNING: /Users/runner/work/xgboost/xgboost/python-package/build/temp.macosx-10.9-x86_64-cpython-38/xgboost/src/learner.cc:767: \n",
      "Parameters: { \"num_boost_round\", \"rate_drop\" } are not used.\n",
      "\n",
      "[14:17:22] WARNING: /Users/runner/work/xgboost/xgboost/python-package/build/temp.macosx-10.9-x86_64-cpython-38/xgboost/src/learner.cc:767: \n",
      "Parameters: { \"num_boost_round\", \"rate_drop\" } are not used.\n",
      "\n",
      "[14:17:23] WARNING: /Users/runner/work/xgboost/xgboost/python-package/build/temp.macosx-10.9-x86_64-cpython-38/xgboost/src/learner.cc:767: \n",
      "Parameters: { \"num_boost_round\", \"rate_drop\" } are not used.\n",
      "\n",
      "[14:17:23] WARNING: /Users/runner/work/xgboost/xgboost/python-package/build/temp.macosx-10.9-x86_64-cpython-38/xgboost/src/learner.cc:767: \n",
      "Parameters: { \"num_boost_round\", \"rate_drop\" } are not used.\n",
      "\n",
      " 33%|██▎    | 10/30 [17:46<35:33, 106.69s/trial, best loss: 0.02985074626865672]\n",
      "\n",
      " \n",
      " best params:  {'booster': 1, 'colsample_bynode': 0.4, 'colsample_bytree': 0.7000000000000001, 'eta': 0.65, 'gamma': 1.0, 'lambda': 6.0, 'num_boost_round': 80.0, 'rate_drop': 0.7000000000000001, 'subsample': 0.9} \n",
      "\n"
     ]
    }
   ],
   "source": [
    "params_best, trials = param_hyperopt(30)"
   ]
  },
  {
   "cell_type": "code",
   "execution_count": 108,
   "id": "4d323edf",
   "metadata": {},
   "outputs": [],
   "source": [
    "best_params = {'booster': 'gbtree', \n",
    "               'colsample_bynode': 0.2, \n",
    "               'colsample_bytree': 0.7, \n",
    "               'eta': 0.1, \n",
    "               'gamma': 0.2, \n",
    "               'lambda': 8.5,\n",
    "               'rate_drop': 0.7, \n",
    "               'subsample': 1.0,\n",
    "               \"objective\":\"binary:logistic\"\n",
    "              } "
   ]
  },
  {
   "cell_type": "code",
   "execution_count": 112,
   "id": "829f0eaf",
   "metadata": {},
   "outputs": [
    {
     "name": "stdout",
     "output_type": "stream",
     "text": [
      "[14:22:30] WARNING: /Users/runner/work/xgboost/xgboost/python-package/build/temp.macosx-10.9-x86_64-cpython-38/xgboost/src/learner.cc:767: \n",
      "Parameters: { \"rate_drop\" } are not used.\n",
      "\n"
     ]
    }
   ],
   "source": [
    "tuned_reg = xgb.train(best_params, w2v_X_train_xgb, num_boost_round=180)"
   ]
  },
  {
   "cell_type": "code",
   "execution_count": 113,
   "id": "23e851f6",
   "metadata": {},
   "outputs": [],
   "source": [
    "xgb_tuned_acc = np.mean(y_test == np.where(tuned_reg.predict(w2v_X_test_xgb)>0.5, 1, 0))\n",
    "xgb_tuned_auc = roc_auc_score(y_test, tuned_reg.predict(w2v_X_test_xgb))"
   ]
  },
  {
   "cell_type": "code",
   "execution_count": 114,
   "id": "2563479b",
   "metadata": {},
   "outputs": [
    {
     "data": {
      "text/plain": [
       "(0.9888488591525133, 0.9985585090528624)"
      ]
     },
     "execution_count": 114,
     "metadata": {},
     "output_type": "execute_result"
    }
   ],
   "source": [
    "xgb_tuned_acc, xgb_tuned_auc"
   ]
  },
  {
   "cell_type": "markdown",
   "id": "f6c482be",
   "metadata": {},
   "source": [
    "## Visualization"
   ]
  },
  {
   "cell_type": "code",
   "execution_count": 41,
   "id": "1b50e558",
   "metadata": {},
   "outputs": [
    {
     "data": {
      "text/plain": [
       "Text(0.5, 1.0, 'Visualization of Word2Vec embeddings')"
      ]
     },
     "execution_count": 41,
     "metadata": {},
     "output_type": "execute_result"
    },
    {
     "data": {
      "image/png": "[encoded data removed]",
      "text/plain": [
       "<Figure size 640x480 with 1 Axes>"
      ]
     },
     "metadata": {},
     "output_type": "display_data"
    }
   ],
   "source": [
    "true_indices = np.load('visual_ai.npy')\n",
    "emb_type = 'Word2Vec'\n",
    "tsne = TSNE(n_components=2)\n",
    "tsne_emb = tsne.fit_transform(w2v_embeds[true_indices])\n",
    "plt.scatter(*tsne_emb.T, c=labels[true_indices])\n",
    "plt.title(f'Visualization of {emb_type} embeddings')"
   ]
  },
  {
   "cell_type": "markdown",
   "id": "7edb48b2",
   "metadata": {},
   "source": [
    "# GloVe"
   ]
  },
  {
   "cell_type": "code",
   "execution_count": 115,
   "id": "210eb655",
   "metadata": {},
   "outputs": [],
   "source": [
    "glove_embeds = np.load('glove_ai.npy')"
   ]
  },
  {
   "cell_type": "code",
   "execution_count": 116,
   "id": "279f6d57",
   "metadata": {},
   "outputs": [],
   "source": [
    "glove_X_train, glove_X_test, y_train, y_test = train_test_split(glove_embeds, labels, test_size=0.2, random_state=247)"
   ]
  },
  {
   "cell_type": "markdown",
   "id": "b41a8f51",
   "metadata": {},
   "source": [
    "## Logistic Regression"
   ]
  },
  {
   "cell_type": "code",
   "execution_count": 117,
   "id": "c099338f",
   "metadata": {},
   "outputs": [
    {
     "data": {
      "text/plain": [
       "LogisticRegression()"
      ]
     },
     "execution_count": 117,
     "metadata": {},
     "output_type": "execute_result"
    }
   ],
   "source": [
    "lg = LogisticRegression()\n",
    "lg.fit(glove_embeds, labels)"
   ]
  },
  {
   "cell_type": "code",
   "execution_count": 118,
   "id": "f4aa16bb",
   "metadata": {},
   "outputs": [
    {
     "data": {
      "text/plain": [
       "0.960336249785555"
      ]
     },
     "execution_count": 118,
     "metadata": {},
     "output_type": "execute_result"
    }
   ],
   "source": [
    "lg.score(glove_embeds, labels)"
   ]
  },
  {
   "cell_type": "markdown",
   "id": "d1943de3",
   "metadata": {},
   "source": [
    "## Random Forest"
   ]
  },
  {
   "cell_type": "code",
   "execution_count": 119,
   "id": "d83808de",
   "metadata": {},
   "outputs": [
    {
     "data": {
      "text/plain": [
       "RandomForestClassifier()"
      ]
     },
     "execution_count": 119,
     "metadata": {},
     "output_type": "execute_result"
    }
   ],
   "source": [
    "rf = RandomForestClassifier()\n",
    "rf.fit(glove_X_train, y_train)"
   ]
  },
  {
   "cell_type": "code",
   "execution_count": 120,
   "id": "93e8bf03",
   "metadata": {},
   "outputs": [],
   "source": [
    "rf_acc = rf.score(glove_X_test, y_test)\n",
    "rf_auc = roc_auc_score(y_test, rf.predict_proba(glove_X_test)[:,1])"
   ]
  },
  {
   "cell_type": "code",
   "execution_count": 121,
   "id": "96c241d7",
   "metadata": {},
   "outputs": [
    {
     "data": {
      "text/plain": [
       "(0.9723794819008407, 0.99552367506596)"
      ]
     },
     "execution_count": 121,
     "metadata": {},
     "output_type": "execute_result"
    }
   ],
   "source": [
    "rf_acc, rf_auc"
   ]
  },
  {
   "cell_type": "markdown",
   "id": "56f963e8",
   "metadata": {},
   "source": [
    "## XGBoost"
   ]
  },
  {
   "cell_type": "markdown",
   "id": "1442ff02",
   "metadata": {},
   "source": [
    "### Baseline"
   ]
  },
  {
   "cell_type": "code",
   "execution_count": 122,
   "id": "e6a71a39",
   "metadata": {},
   "outputs": [],
   "source": [
    "glove_X_train_xgb = xgb.DMatrix(glove_X_train, y_train)\n",
    "glove_X_test_xgb = xgb.DMatrix(glove_X_test, y_test)"
   ]
  },
  {
   "cell_type": "code",
   "execution_count": 123,
   "id": "f1947c2e",
   "metadata": {},
   "outputs": [],
   "source": [
    "params = {\"objective\": \"binary:logistic\"}\n",
    "reg = xgb.train(params, glove_X_train_xgb, num_boost_round=100)"
   ]
  },
  {
   "cell_type": "code",
   "execution_count": 124,
   "id": "66cdf3a7",
   "metadata": {},
   "outputs": [],
   "source": [
    "xgb_base_acc = np.mean(y_test == np.where(reg.predict(glove_X_test_xgb)>0.5, 1, 0))\n",
    "xgb_base_auc = roc_auc_score(y_test, reg.predict(glove_X_test_xgb))"
   ]
  },
  {
   "cell_type": "code",
   "execution_count": 125,
   "id": "3ea86aa9",
   "metadata": {},
   "outputs": [
    {
     "data": {
      "text/plain": [
       "(0.980614170526677, 0.9975144339216477)"
      ]
     },
     "execution_count": 125,
     "metadata": {},
     "output_type": "execute_result"
    }
   ],
   "source": [
    "xgb_base_acc, xgb_base_auc"
   ]
  },
  {
   "cell_type": "markdown",
   "id": "5a426cfa",
   "metadata": {},
   "source": [
    "### Tuning"
   ]
  },
  {
   "cell_type": "code",
   "execution_count": 126,
   "id": "07a1db35",
   "metadata": {},
   "outputs": [],
   "source": [
    "def hyperopt_objective(params):\n",
    "    paramsforxgb = {\"eta\":params[\"eta\"]\n",
    "                    ,\"booster\":params[\"booster\"]\n",
    "                    ,\"colsample_bytree\":params[\"colsample_bytree\"]\n",
    "                    ,\"colsample_bynode\":params[\"colsample_bynode\"]\n",
    "                    ,\"gamma\":params[\"gamma\"]\n",
    "                    ,\"lambda\":params[\"lambda\"]\n",
    "                    ,\"subsample\":params[\"subsample\"]\n",
    "                    ,\"rate_drop\":params[\"rate_drop\"]\n",
    "                    ,\"objective\":\"binary:logistic\"\n",
    "                    ,\"nthread\":14\n",
    "                    ,\"verbosity\":0}\n",
    "    result = xgb.cv(params, glove_X_train_xgb, seed=247, metrics=(\"error\")\n",
    "                    ,num_boost_round=int(params[\"num_boost_round\"]))\n",
    "    return result.iloc[-1,2]"
   ]
  },
  {
   "cell_type": "code",
   "execution_count": 127,
   "id": "8373b332",
   "metadata": {},
   "outputs": [],
   "source": [
    "param_grid_simple = {'num_boost_round': hp.quniform(\"num_boost_round\",50,200,10)\n",
    "                     ,\"eta\": hp.quniform(\"eta\",0.05,2.05,0.05)\n",
    "                     ,\"booster\":hp.choice(\"booster\",[\"gbtree\",\"dart\"])\n",
    "                     ,\"colsample_bytree\":hp.quniform(\"colsample_bytree\",0.3,1,0.1)\n",
    "                     ,\"colsample_bynode\":hp.quniform(\"colsample_bynode\",0.1,1,0.1)\n",
    "                     ,\"gamma\":hp.quniform(\"gamma\",0,10,0.5)\n",
    "                     ,\"lambda\":hp.quniform(\"lambda\",0,10,0.5)\n",
    "                     ,\"subsample\":hp.quniform(\"subsample\",0.1,1,0.1)\n",
    "                     ,\"rate_drop\":hp.quniform(\"rate_drop\",0.1,1,0.1)\n",
    "                    }"
   ]
  },
  {
   "cell_type": "code",
   "execution_count": 128,
   "id": "ca916fac",
   "metadata": {},
   "outputs": [],
   "source": [
    "def param_hyperopt(max_evals=100):\n",
    "    \n",
    "    trials = Trials()\n",
    "    \n",
    "    early_stop_fn = no_progress_loss(10)\n",
    "    \n",
    "    params_best = fmin(hyperopt_objective\n",
    "                       ,space = param_grid_simple\n",
    "                       ,algo = tpe.suggest\n",
    "                       ,max_evals = max_evals\n",
    "                       ,verbose=True\n",
    "                       ,trials = trials\n",
    "                       ,early_stop_fn = early_stop_fn\n",
    "                      )\n",
    "    \n",
    "    print(\"\\n\",\"\\n\",\"best params: \", params_best,\n",
    "          \"\\n\")\n",
    "    return params_best, trials"
   ]
  },
  {
   "cell_type": "code",
   "execution_count": 129,
   "id": "a621844b",
   "metadata": {},
   "outputs": [
    {
     "name": "stdout",
     "output_type": "stream",
     "text": [
      "[22:30:04] WARNING: /Users/runner/work/xgboost/xgboost/python-package/build/temp.macosx-10.9-x86_64-cpython-38/xgboost/src/learner.cc:767: \n",
      "Parameters: { \"num_boost_round\", \"rate_drop\" } are not used.\n",
      "\n",
      "[22:30:04] WARNING: /Users/runner/work/xgboost/xgboost/python-package/build/temp.macosx-10.9-x86_64-cpython-38/xgboost/src/learner.cc:767: \n",
      "Parameters: { \"num_boost_round\", \"rate_drop\" } are not used.\n",
      "\n",
      "[22:30:04] WARNING: /Users/runner/work/xgboost/xgboost/python-package/build/temp.macosx-10.9-x86_64-cpython-38/xgboost/src/learner.cc:767: \n",
      "Parameters: { \"num_boost_round\", \"rate_drop\" } are not used.\n",
      "\n",
      "[22:30:19] WARNING: /Users/runner/work/xgboost/xgboost/python-package/build/temp.macosx-10.9-x86_64-cpython-38/xgboost/src/learner.cc:767: \n",
      "Parameters: { \"num_boost_round\", \"rate_drop\" } are not used.\n",
      "\n",
      "[22:30:19] WARNING: /Users/runner/work/xgboost/xgboost/python-package/build/temp.macosx-10.9-x86_64-cpython-38/xgboost/src/learner.cc:767: \n",
      "Parameters: { \"num_boost_round\", \"rate_drop\" } are not used.\n",
      "\n",
      "[22:30:19] WARNING: /Users/runner/work/xgboost/xgboost/python-package/build/temp.macosx-10.9-x86_64-cpython-38/xgboost/src/learner.cc:767: \n",
      "Parameters: { \"num_boost_round\", \"rate_drop\" } are not used.\n",
      "\n",
      "[22:30:22] WARNING: /Users/runner/work/xgboost/xgboost/python-package/build/temp.macosx-10.9-x86_64-cpython-38/xgboost/src/learner.cc:767: \n",
      "Parameters: { \"num_boost_round\" } are not used.\n",
      "\n",
      "[22:30:22] WARNING: /Users/runner/work/xgboost/xgboost/python-package/build/temp.macosx-10.9-x86_64-cpython-38/xgboost/src/learner.cc:767: \n",
      "Parameters: { \"num_boost_round\" } are not used.\n",
      "\n",
      "[22:30:22] WARNING: /Users/runner/work/xgboost/xgboost/python-package/build/temp.macosx-10.9-x86_64-cpython-38/xgboost/src/learner.cc:767: \n",
      "Parameters: { \"num_boost_round\" } are not used.\n",
      "\n",
      "[22:32:32] WARNING: /Users/runner/work/xgboost/xgboost/python-package/build/temp.macosx-10.9-x86_64-cpython-38/xgboost/src/learner.cc:767: \n",
      "Parameters: { \"num_boost_round\" } are not used.\n",
      "\n",
      "[22:32:32] WARNING: /Users/runner/work/xgboost/xgboost/python-package/build/temp.macosx-10.9-x86_64-cpython-38/xgboost/src/learner.cc:767: \n",
      "Parameters: { \"num_boost_round\" } are not used.\n",
      "\n",
      "[22:32:32] WARNING: /Users/runner/work/xgboost/xgboost/python-package/build/temp.macosx-10.9-x86_64-cpython-38/xgboost/src/learner.cc:767: \n",
      "Parameters: { \"num_boost_round\" } are not used.\n",
      "\n",
      "[22:34:49] WARNING: /Users/runner/work/xgboost/xgboost/python-package/build/temp.macosx-10.9-x86_64-cpython-38/xgboost/src/learner.cc:767: \n",
      "Parameters: { \"num_boost_round\" } are not used.\n",
      "\n",
      "[22:34:50] WARNING: /Users/runner/work/xgboost/xgboost/python-package/build/temp.macosx-10.9-x86_64-cpython-38/xgboost/src/learner.cc:767: \n",
      "Parameters: { \"num_boost_round\" } are not used.\n",
      "\n",
      "[22:34:50] WARNING: /Users/runner/work/xgboost/xgboost/python-package/build/temp.macosx-10.9-x86_64-cpython-38/xgboost/src/learner.cc:767: \n",
      "Parameters: { \"num_boost_round\" } are not used.\n",
      "\n",
      "[22:37:13] WARNING: /Users/runner/work/xgboost/xgboost/python-package/build/temp.macosx-10.9-x86_64-cpython-38/xgboost/src/learner.cc:767: \n",
      "Parameters: { \"num_boost_round\", \"rate_drop\" } are not used.\n",
      "\n",
      "[22:37:13] WARNING: /Users/runner/work/xgboost/xgboost/python-package/build/temp.macosx-10.9-x86_64-cpython-38/xgboost/src/learner.cc:767: \n",
      "Parameters: { \"num_boost_round\", \"rate_drop\" } are not used.\n",
      "\n",
      "[22:37:13] WARNING: /Users/runner/work/xgboost/xgboost/python-package/build/temp.macosx-10.9-x86_64-cpython-38/xgboost/src/learner.cc:767: \n",
      "Parameters: { \"num_boost_round\", \"rate_drop\" } are not used.\n",
      "\n",
      "[22:37:20] WARNING: /Users/runner/work/xgboost/xgboost/python-package/build/temp.macosx-10.9-x86_64-cpython-38/xgboost/src/learner.cc:767: \n",
      "Parameters: { \"num_boost_round\" } are not used.\n",
      "\n",
      "[22:37:20] WARNING: /Users/runner/work/xgboost/xgboost/python-package/build/temp.macosx-10.9-x86_64-cpython-38/xgboost/src/learner.cc:767: \n",
      "Parameters: { \"num_boost_round\" } are not used.\n",
      "\n",
      "[22:37:20] WARNING: /Users/runner/work/xgboost/xgboost/python-package/build/temp.macosx-10.9-x86_64-cpython-38/xgboost/src/learner.cc:767: \n",
      "Parameters: { \"num_boost_round\" } are not used.\n",
      "\n",
      "[22:39:18] WARNING: /Users/runner/work/xgboost/xgboost/python-package/build/temp.macosx-10.9-x86_64-cpython-38/xgboost/src/learner.cc:767: \n",
      "Parameters: { \"num_boost_round\", \"rate_drop\" } are not used.\n",
      "\n",
      "[22:39:18] WARNING: /Users/runner/work/xgboost/xgboost/python-package/build/temp.macosx-10.9-x86_64-cpython-38/xgboost/src/learner.cc:767: \n",
      "Parameters: { \"num_boost_round\", \"rate_drop\" } are not used.\n",
      "\n",
      "[22:39:18] WARNING: /Users/runner/work/xgboost/xgboost/python-package/build/temp.macosx-10.9-x86_64-cpython-38/xgboost/src/learner.cc:767: \n",
      "Parameters: { \"num_boost_round\", \"rate_drop\" } are not used.\n",
      "\n",
      "[22:39:27] WARNING: /Users/runner/work/xgboost/xgboost/python-package/build/temp.macosx-10.9-x86_64-cpython-38/xgboost/src/learner.cc:767: \n",
      "Parameters: { \"num_boost_round\", \"rate_drop\" } are not used.\n",
      "\n",
      "[22:39:27] WARNING: /Users/runner/work/xgboost/xgboost/python-package/build/temp.macosx-10.9-x86_64-cpython-38/xgboost/src/learner.cc:767: \n",
      "Parameters: { \"num_boost_round\", \"rate_drop\" } are not used.\n",
      "\n",
      "[22:39:27] WARNING: /Users/runner/work/xgboost/xgboost/python-package/build/temp.macosx-10.9-x86_64-cpython-38/xgboost/src/learner.cc:767: \n",
      "Parameters: { \"num_boost_round\", \"rate_drop\" } are not used.\n",
      "\n",
      "[22:39:31] WARNING: /Users/runner/work/xgboost/xgboost/python-package/build/temp.macosx-10.9-x86_64-cpython-38/xgboost/src/learner.cc:767: \n",
      "Parameters: { \"num_boost_round\" } are not used.\n",
      "\n",
      "[22:39:31] WARNING: /Users/runner/work/xgboost/xgboost/python-package/build/temp.macosx-10.9-x86_64-cpython-38/xgboost/src/learner.cc:767: \n",
      "Parameters: { \"num_boost_round\" } are not used.\n",
      "\n",
      "[22:39:32] WARNING: /Users/runner/work/xgboost/xgboost/python-package/build/temp.macosx-10.9-x86_64-cpython-38/xgboost/src/learner.cc:767: \n",
      "Parameters: { \"num_boost_round\" } are not used.\n",
      "\n",
      "[22:40:52] WARNING: /Users/runner/work/xgboost/xgboost/python-package/build/temp.macosx-10.9-x86_64-cpython-38/xgboost/src/learner.cc:767: \n",
      "Parameters: { \"num_boost_round\", \"rate_drop\" } are not used.\n",
      "\n",
      "[22:40:52] WARNING: /Users/runner/work/xgboost/xgboost/python-package/build/temp.macosx-10.9-x86_64-cpython-38/xgboost/src/learner.cc:767: \n",
      "Parameters: { \"num_boost_round\", \"rate_drop\" } are not used.\n",
      "\n",
      "[22:40:52] WARNING: /Users/runner/work/xgboost/xgboost/python-package/build/temp.macosx-10.9-x86_64-cpython-38/xgboost/src/learner.cc:767: \n",
      "Parameters: { \"num_boost_round\", \"rate_drop\" } are not used.\n",
      "\n",
      "[22:41:01] WARNING: /Users/runner/work/xgboost/xgboost/python-package/build/temp.macosx-10.9-x86_64-cpython-38/xgboost/src/learner.cc:767: \n",
      "Parameters: { \"num_boost_round\", \"rate_drop\" } are not used.\n",
      "\n",
      "[22:41:01] WARNING: /Users/runner/work/xgboost/xgboost/python-package/build/temp.macosx-10.9-x86_64-cpython-38/xgboost/src/learner.cc:767: \n",
      "Parameters: { \"num_boost_round\", \"rate_drop\" } are not used.\n",
      "\n",
      "[22:41:01] WARNING: /Users/runner/work/xgboost/xgboost/python-package/build/temp.macosx-10.9-x86_64-cpython-38/xgboost/src/learner.cc:767: \n",
      "Parameters: { \"num_boost_round\", \"rate_drop\" } are not used.\n",
      "\n",
      "[22:41:05] WARNING: /Users/runner/work/xgboost/xgboost/python-package/build/temp.macosx-10.9-x86_64-cpython-38/xgboost/src/learner.cc:767: \n",
      "Parameters: { \"num_boost_round\", \"rate_drop\" } are not used.\n",
      "\n",
      "[22:41:05] WARNING: /Users/runner/work/xgboost/xgboost/python-package/build/temp.macosx-10.9-x86_64-cpython-38/xgboost/src/learner.cc:767: \n",
      "Parameters: { \"num_boost_round\", \"rate_drop\" } are not used.\n",
      "\n",
      "[22:41:05] WARNING: /Users/runner/work/xgboost/xgboost/python-package/build/temp.macosx-10.9-x86_64-cpython-38/xgboost/src/learner.cc:767: \n",
      "Parameters: { \"num_boost_round\", \"rate_drop\" } are not used.\n",
      "\n",
      "[22:41:09] WARNING: /Users/runner/work/xgboost/xgboost/python-package/build/temp.macosx-10.9-x86_64-cpython-38/xgboost/src/learner.cc:767: \n",
      "Parameters: { \"num_boost_round\", \"rate_drop\" } are not used.\n",
      "\n",
      "[22:41:09] WARNING: /Users/runner/work/xgboost/xgboost/python-package/build/temp.macosx-10.9-x86_64-cpython-38/xgboost/src/learner.cc:767: \n",
      "Parameters: { \"num_boost_round\", \"rate_drop\" } are not used.\n",
      "\n",
      "[22:41:10] WARNING: /Users/runner/work/xgboost/xgboost/python-package/build/temp.macosx-10.9-x86_64-cpython-38/xgboost/src/learner.cc:767: \n",
      "Parameters: { \"num_boost_round\", \"rate_drop\" } are not used.\n",
      "\n"
     ]
    },
    {
     "name": "stdout",
     "output_type": "stream",
     "text": [
      "[22:41:28] WARNING: /Users/runner/work/xgboost/xgboost/python-package/build/temp.macosx-10.9-x86_64-cpython-38/xgboost/src/learner.cc:767: \n",
      "Parameters: { \"num_boost_round\", \"rate_drop\" } are not used.\n",
      "\n",
      "[22:41:28] WARNING: /Users/runner/work/xgboost/xgboost/python-package/build/temp.macosx-10.9-x86_64-cpython-38/xgboost/src/learner.cc:767: \n",
      "Parameters: { \"num_boost_round\", \"rate_drop\" } are not used.\n",
      "\n",
      "[22:41:28] WARNING: /Users/runner/work/xgboost/xgboost/python-package/build/temp.macosx-10.9-x86_64-cpython-38/xgboost/src/learner.cc:767: \n",
      "Parameters: { \"num_boost_round\", \"rate_drop\" } are not used.\n",
      "\n",
      "[22:41:33] WARNING: /Users/runner/work/xgboost/xgboost/python-package/build/temp.macosx-10.9-x86_64-cpython-38/xgboost/src/learner.cc:767: \n",
      "Parameters: { \"num_boost_round\" } are not used.\n",
      "\n",
      "[22:41:33] WARNING: /Users/runner/work/xgboost/xgboost/python-package/build/temp.macosx-10.9-x86_64-cpython-38/xgboost/src/learner.cc:767: \n",
      "Parameters: { \"num_boost_round\" } are not used.\n",
      "\n",
      "[22:41:33] WARNING: /Users/runner/work/xgboost/xgboost/python-package/build/temp.macosx-10.9-x86_64-cpython-38/xgboost/src/learner.cc:767: \n",
      "Parameters: { \"num_boost_round\" } are not used.\n",
      "\n",
      "[22:47:14] WARNING: /Users/runner/work/xgboost/xgboost/python-package/build/temp.macosx-10.9-x86_64-cpython-38/xgboost/src/learner.cc:767: \n",
      "Parameters: { \"num_boost_round\" } are not used.\n",
      "\n",
      "[22:47:14] WARNING: /Users/runner/work/xgboost/xgboost/python-package/build/temp.macosx-10.9-x86_64-cpython-38/xgboost/src/learner.cc:767: \n",
      "Parameters: { \"num_boost_round\" } are not used.\n",
      "\n",
      "[22:47:15] WARNING: /Users/runner/work/xgboost/xgboost/python-package/build/temp.macosx-10.9-x86_64-cpython-38/xgboost/src/learner.cc:767: \n",
      "Parameters: { \"num_boost_round\" } are not used.\n",
      "\n",
      "[22:50:54] WARNING: /Users/runner/work/xgboost/xgboost/python-package/build/temp.macosx-10.9-x86_64-cpython-38/xgboost/src/learner.cc:767: \n",
      "Parameters: { \"num_boost_round\" } are not used.\n",
      "\n",
      "[22:50:54] WARNING: /Users/runner/work/xgboost/xgboost/python-package/build/temp.macosx-10.9-x86_64-cpython-38/xgboost/src/learner.cc:767: \n",
      "Parameters: { \"num_boost_round\" } are not used.\n",
      "\n",
      "[22:50:54] WARNING: /Users/runner/work/xgboost/xgboost/python-package/build/temp.macosx-10.9-x86_64-cpython-38/xgboost/src/learner.cc:767: \n",
      "Parameters: { \"num_boost_round\" } are not used.\n",
      "\n",
      "[22:52:10] WARNING: /Users/runner/work/xgboost/xgboost/python-package/build/temp.macosx-10.9-x86_64-cpython-38/xgboost/src/learner.cc:767: \n",
      "Parameters: { \"num_boost_round\", \"rate_drop\" } are not used.\n",
      "\n",
      "[22:52:10] WARNING: /Users/runner/work/xgboost/xgboost/python-package/build/temp.macosx-10.9-x86_64-cpython-38/xgboost/src/learner.cc:767: \n",
      "Parameters: { \"num_boost_round\", \"rate_drop\" } are not used.\n",
      "\n",
      "[22:52:10] WARNING: /Users/runner/work/xgboost/xgboost/python-package/build/temp.macosx-10.9-x86_64-cpython-38/xgboost/src/learner.cc:767: \n",
      "Parameters: { \"num_boost_round\", \"rate_drop\" } are not used.\n",
      "\n",
      "[22:52:34] WARNING: /Users/runner/work/xgboost/xgboost/python-package/build/temp.macosx-10.9-x86_64-cpython-38/xgboost/src/learner.cc:767: \n",
      "Parameters: { \"num_boost_round\" } are not used.\n",
      "\n",
      "[22:52:34] WARNING: /Users/runner/work/xgboost/xgboost/python-package/build/temp.macosx-10.9-x86_64-cpython-38/xgboost/src/learner.cc:767: \n",
      "Parameters: { \"num_boost_round\" } are not used.\n",
      "\n",
      "[22:52:34] WARNING: /Users/runner/work/xgboost/xgboost/python-package/build/temp.macosx-10.9-x86_64-cpython-38/xgboost/src/learner.cc:767: \n",
      "Parameters: { \"num_boost_round\" } are not used.\n",
      "\n",
      "[22:53:25] WARNING: /Users/runner/work/xgboost/xgboost/python-package/build/temp.macosx-10.9-x86_64-cpython-38/xgboost/src/learner.cc:767: \n",
      "Parameters: { \"num_boost_round\" } are not used.\n",
      "\n",
      "[22:53:25] WARNING: /Users/runner/work/xgboost/xgboost/python-package/build/temp.macosx-10.9-x86_64-cpython-38/xgboost/src/learner.cc:767: \n",
      "Parameters: { \"num_boost_round\" } are not used.\n",
      "\n",
      "[22:53:25] WARNING: /Users/runner/work/xgboost/xgboost/python-package/build/temp.macosx-10.9-x86_64-cpython-38/xgboost/src/learner.cc:767: \n",
      "Parameters: { \"num_boost_round\" } are not used.\n",
      "\n",
      "[22:55:41] WARNING: /Users/runner/work/xgboost/xgboost/python-package/build/temp.macosx-10.9-x86_64-cpython-38/xgboost/src/learner.cc:767: \n",
      "Parameters: { \"num_boost_round\" } are not used.\n",
      "\n",
      "[22:55:41] WARNING: /Users/runner/work/xgboost/xgboost/python-package/build/temp.macosx-10.9-x86_64-cpython-38/xgboost/src/learner.cc:767: \n",
      "Parameters: { \"num_boost_round\" } are not used.\n",
      "\n",
      "[22:55:41] WARNING: /Users/runner/work/xgboost/xgboost/python-package/build/temp.macosx-10.9-x86_64-cpython-38/xgboost/src/learner.cc:767: \n",
      "Parameters: { \"num_boost_round\" } are not used.\n",
      "\n",
      "[22:56:56] WARNING: /Users/runner/work/xgboost/xgboost/python-package/build/temp.macosx-10.9-x86_64-cpython-38/xgboost/src/learner.cc:767: \n",
      "Parameters: { \"num_boost_round\" } are not used.\n",
      "\n",
      "[22:56:56] WARNING: /Users/runner/work/xgboost/xgboost/python-package/build/temp.macosx-10.9-x86_64-cpython-38/xgboost/src/learner.cc:767: \n",
      "Parameters: { \"num_boost_round\" } are not used.\n",
      "\n",
      "[22:56:56] WARNING: /Users/runner/work/xgboost/xgboost/python-package/build/temp.macosx-10.9-x86_64-cpython-38/xgboost/src/learner.cc:767: \n",
      "Parameters: { \"num_boost_round\" } are not used.\n",
      "\n",
      "[22:59:36] WARNING: /Users/runner/work/xgboost/xgboost/python-package/build/temp.macosx-10.9-x86_64-cpython-38/xgboost/src/learner.cc:767: \n",
      "Parameters: { \"num_boost_round\", \"rate_drop\" } are not used.\n",
      "\n",
      "[22:59:36] WARNING: /Users/runner/work/xgboost/xgboost/python-package/build/temp.macosx-10.9-x86_64-cpython-38/xgboost/src/learner.cc:767: \n",
      "Parameters: { \"num_boost_round\", \"rate_drop\" } are not used.\n",
      "\n",
      "[22:59:36] WARNING: /Users/runner/work/xgboost/xgboost/python-package/build/temp.macosx-10.9-x86_64-cpython-38/xgboost/src/learner.cc:767: \n",
      "Parameters: { \"num_boost_round\", \"rate_drop\" } are not used.\n",
      "\n",
      "[22:59:43] WARNING: /Users/runner/work/xgboost/xgboost/python-package/build/temp.macosx-10.9-x86_64-cpython-38/xgboost/src/learner.cc:767: \n",
      "Parameters: { \"num_boost_round\", \"rate_drop\" } are not used.\n",
      "\n",
      "[22:59:43] WARNING: /Users/runner/work/xgboost/xgboost/python-package/build/temp.macosx-10.9-x86_64-cpython-38/xgboost/src/learner.cc:767: \n",
      "Parameters: { \"num_boost_round\", \"rate_drop\" } are not used.\n",
      "\n",
      "[22:59:43] WARNING: /Users/runner/work/xgboost/xgboost/python-package/build/temp.macosx-10.9-x86_64-cpython-38/xgboost/src/learner.cc:767: \n",
      "Parameters: { \"num_boost_round\", \"rate_drop\" } are not used.\n",
      "\n",
      " 83%|██████▋ | 25/30 [29:45<05:57, 71.41s/trial, best loss: 0.04040144107050952]\n",
      "\n",
      " \n",
      " best params:  {'booster': 0, 'colsample_bynode': 0.30000000000000004, 'colsample_bytree': 0.4, 'eta': 0.05, 'gamma': 1.5, 'lambda': 6.5, 'num_boost_round': 160.0, 'rate_drop': 0.5, 'subsample': 0.30000000000000004} \n",
      "\n"
     ]
    }
   ],
   "source": [
    "params_best, trials = param_hyperopt(30)"
   ]
  },
  {
   "cell_type": "code",
   "execution_count": 130,
   "id": "86108b0a",
   "metadata": {},
   "outputs": [],
   "source": [
    "best_params = {'booster': 'gbtree', \n",
    "               'colsample_bynode': 0.3, \n",
    "               'colsample_bytree': 0.4, \n",
    "               'eta': 0.05, \n",
    "               'gamma': 1.5, \n",
    "               'lambda': 6.5,\n",
    "               'rate_drop': 0.5, \n",
    "               'subsample': 0.3,\n",
    "               \"objective\":\"binary:logistic\"\n",
    "              } "
   ]
  },
  {
   "cell_type": "code",
   "execution_count": 134,
   "id": "aeaf3664",
   "metadata": {},
   "outputs": [
    {
     "name": "stdout",
     "output_type": "stream",
     "text": [
      "[23:03:38] WARNING: /Users/runner/work/xgboost/xgboost/python-package/build/temp.macosx-10.9-x86_64-cpython-38/xgboost/src/learner.cc:767: \n",
      "Parameters: { \"rate_drop\" } are not used.\n",
      "\n"
     ]
    }
   ],
   "source": [
    "tuned_reg = xgb.train(best_params, glove_X_train_xgb, num_boost_round=160)"
   ]
  },
  {
   "cell_type": "code",
   "execution_count": 135,
   "id": "39c581c6",
   "metadata": {},
   "outputs": [],
   "source": [
    "xgb_tuned_acc = np.mean(y_test == np.where(tuned_reg.predict(glove_X_test_xgb)>0.5, 1, 0))\n",
    "xgb_tuned_auc = roc_auc_score(y_test, tuned_reg.predict(glove_X_test_xgb))"
   ]
  },
  {
   "cell_type": "code",
   "execution_count": 136,
   "id": "fe5d899e",
   "metadata": {},
   "outputs": [
    {
     "data": {
      "text/plain": [
       "(0.9776977183050266, 0.9973308130955871)"
      ]
     },
     "execution_count": 136,
     "metadata": {},
     "output_type": "execute_result"
    }
   ],
   "source": [
    "xgb_tuned_acc, xgb_tuned_auc"
   ]
  },
  {
   "cell_type": "markdown",
   "id": "98243b43",
   "metadata": {},
   "source": [
    "## Visualization"
   ]
  },
  {
   "cell_type": "code",
   "execution_count": 137,
   "id": "c6b238a6",
   "metadata": {},
   "outputs": [
    {
     "data": {
      "text/plain": [
       "Text(0.5, 1.0, 'Visualization of GloVe embeddings')"
      ]
     },
     "execution_count": 137,
     "metadata": {},
     "output_type": "execute_result"
    },
    {
     "data": {
      "image/png": "[encoded data removed]",
      "text/plain": [
       "<Figure size 640x480 with 1 Axes>"
      ]
     },
     "metadata": {},
     "output_type": "display_data"
    }
   ],
   "source": [
    "true_indices = np.load('visual_ai.npy')\n",
    "emb_type = 'GloVe'\n",
    "tsne = TSNE(n_components=2)\n",
    "tsne_emb = tsne.fit_transform(glove_embeds[true_indices])\n",
    "plt.scatter(*tsne_emb.T, c=labels[true_indices])\n",
    "plt.title(f'Visualization of {emb_type} embeddings')"
   ]
  },
  {
   "cell_type": "markdown",
   "id": "7f42b1da",
   "metadata": {},
   "source": [
    "# BERT"
   ]
  },
  {
   "cell_type": "code",
   "execution_count": 50,
   "id": "31be5373",
   "metadata": {},
   "outputs": [],
   "source": [
    "bert_embeds = np.load('AIGDetection/bert-base-uncased_embeddings.npy')\n",
    "labels = np.load('label.npy')"
   ]
  },
  {
   "cell_type": "code",
   "execution_count": 51,
   "id": "e1635fcd",
   "metadata": {},
   "outputs": [],
   "source": [
    "bert_X_train, bert_X_test, y_train, y_test = train_test_split(bert_embeds, labels, test_size=0.2, random_state=247)"
   ]
  },
  {
   "cell_type": "markdown",
   "id": "f7f283cb",
   "metadata": {},
   "source": [
    "## Logistic Regression"
   ]
  },
  {
   "cell_type": "code",
   "execution_count": 52,
   "id": "53721f68",
   "metadata": {},
   "outputs": [
    {
     "data": {
      "text/plain": [
       "LogisticRegression()"
      ]
     },
     "execution_count": 52,
     "metadata": {},
     "output_type": "execute_result"
    }
   ],
   "source": [
    "lg = LogisticRegression()\n",
    "lg.fit(bert_X_train, y_train)"
   ]
  },
  {
   "cell_type": "code",
   "execution_count": 53,
   "id": "92675926",
   "metadata": {},
   "outputs": [],
   "source": [
    "lg_acc = lg.score(bert_X_test, y_test)\n",
    "lg_auc = roc_auc_score(y_test, lg.predict_proba(bert_X_test)[:,1])"
   ]
  },
  {
   "cell_type": "code",
   "execution_count": 54,
   "id": "01551bb6",
   "metadata": {},
   "outputs": [
    {
     "data": {
      "text/plain": [
       "(0.9943306510607169, 0.999897539177493)"
      ]
     },
     "execution_count": 54,
     "metadata": {},
     "output_type": "execute_result"
    }
   ],
   "source": [
    "lg_acc, lg_auc"
   ]
  },
  {
   "cell_type": "markdown",
   "id": "9ab8a7f7",
   "metadata": {},
   "source": [
    "## Random Forest"
   ]
  },
  {
   "cell_type": "code",
   "execution_count": 55,
   "id": "4b3a6a1e",
   "metadata": {},
   "outputs": [
    {
     "data": {
      "text/plain": [
       "RandomForestClassifier()"
      ]
     },
     "execution_count": 55,
     "metadata": {},
     "output_type": "execute_result"
    }
   ],
   "source": [
    "rf = RandomForestClassifier()\n",
    "rf.fit(bert_X_train, y_train)"
   ]
  },
  {
   "cell_type": "code",
   "execution_count": 56,
   "id": "85b9ce25",
   "metadata": {},
   "outputs": [],
   "source": [
    "rf_acc = rf.score(bert_X_test, y_test)\n",
    "rf_auc = roc_auc_score(y_test, rf.predict_proba(bert_X_test)[:,1])"
   ]
  },
  {
   "cell_type": "code",
   "execution_count": 57,
   "id": "0aa462d2",
   "metadata": {},
   "outputs": [
    {
     "data": {
      "text/plain": [
       "(0.9877468910021946, 0.998863703969751)"
      ]
     },
     "execution_count": 57,
     "metadata": {},
     "output_type": "execute_result"
    }
   ],
   "source": [
    "rf_acc, rf_auc"
   ]
  },
  {
   "cell_type": "markdown",
   "id": "3ad08d82",
   "metadata": {},
   "source": [
    "## XGBoost"
   ]
  },
  {
   "cell_type": "code",
   "execution_count": 59,
   "id": "f7f7915a",
   "metadata": {},
   "outputs": [],
   "source": [
    "bert_X_train_xgb = xgb.DMatrix(bert_X_train, y_train)\n",
    "bert_X_test_xgb = xgb.DMatrix(bert_X_test, y_test)"
   ]
  },
  {
   "cell_type": "code",
   "execution_count": 60,
   "id": "e27a6c1e",
   "metadata": {},
   "outputs": [],
   "source": [
    "params = {\"objective\": \"binary:logistic\"}\n",
    "reg = xgb.train(params, bert_X_train_xgb, num_boost_round=100)"
   ]
  },
  {
   "cell_type": "code",
   "execution_count": 61,
   "id": "8c21dfcd",
   "metadata": {},
   "outputs": [],
   "source": [
    "xgb_base_acc = np.mean(y_test == np.where(reg.predict(bert_X_test_xgb)>0.5, 1, 0))\n",
    "xgb_base_auc = roc_auc_score(y_test, reg.predict(bert_X_test_xgb))"
   ]
  },
  {
   "cell_type": "code",
   "execution_count": 62,
   "id": "611ebe02",
   "metadata": {},
   "outputs": [
    {
     "data": {
      "text/plain": [
       "(0.9928675932699341, 0.999655709601791)"
      ]
     },
     "execution_count": 62,
     "metadata": {},
     "output_type": "execute_result"
    }
   ],
   "source": [
    "xgb_base_acc, xgb_base_auc"
   ]
  },
  {
   "cell_type": "markdown",
   "id": "fcbbbf2d",
   "metadata": {},
   "source": [
    "# DeBERTa"
   ]
  },
  {
   "cell_type": "code",
   "execution_count": 66,
   "id": "6ee54ec0",
   "metadata": {},
   "outputs": [],
   "source": [
    "deberta_embeds = np.load('AIGDetection/deberta-base_embeddings.npy')\n",
    "labels = np.load('label.npy')"
   ]
  },
  {
   "cell_type": "code",
   "execution_count": 67,
   "id": "2be61fb3",
   "metadata": {},
   "outputs": [],
   "source": [
    "deberta_X_train, deberta_X_test, y_train, y_test = train_test_split(deberta_embeds, labels, test_size=0.2, random_state=247)"
   ]
  },
  {
   "cell_type": "markdown",
   "id": "2163b25a",
   "metadata": {},
   "source": [
    "## Logistic Regression"
   ]
  },
  {
   "cell_type": "code",
   "execution_count": 68,
   "id": "d887be07",
   "metadata": {},
   "outputs": [
    {
     "data": {
      "text/plain": [
       "LogisticRegression()"
      ]
     },
     "execution_count": 68,
     "metadata": {},
     "output_type": "execute_result"
    }
   ],
   "source": [
    "lg = LogisticRegression()\n",
    "lg.fit(deberta_X_train, y_train)"
   ]
  },
  {
   "cell_type": "code",
   "execution_count": 69,
   "id": "4012c2c3",
   "metadata": {},
   "outputs": [],
   "source": [
    "lg_acc = lg.score(deberta_X_test, y_test)\n",
    "lg_auc = roc_auc_score(y_test, lg.predict_proba(deberta_X_test)[:,1])"
   ]
  },
  {
   "cell_type": "code",
   "execution_count": null,
   "id": "7f56982a",
   "metadata": {},
   "outputs": [],
   "source": []
  },
  {
   "cell_type": "code",
   "execution_count": 70,
   "id": "26874181",
   "metadata": {},
   "outputs": [
    {
     "data": {
      "text/plain": [
       "(0.9835405998536942, 0.9974541790794832)"
      ]
     },
     "execution_count": 70,
     "metadata": {},
     "output_type": "execute_result"
    }
   ],
   "source": [
    "lg_acc, lg_auc"
   ]
  },
  {
   "cell_type": "markdown",
   "id": "364176f7",
   "metadata": {},
   "source": [
    "## Random Forest"
   ]
  },
  {
   "cell_type": "code",
   "execution_count": 71,
   "id": "bce441ae",
   "metadata": {},
   "outputs": [
    {
     "data": {
      "text/plain": [
       "RandomForestClassifier()"
      ]
     },
     "execution_count": 71,
     "metadata": {},
     "output_type": "execute_result"
    }
   ],
   "source": [
    "rf = RandomForestClassifier()\n",
    "rf.fit(deberta_X_train, y_train)"
   ]
  },
  {
   "cell_type": "code",
   "execution_count": 72,
   "id": "8efa1610",
   "metadata": {},
   "outputs": [],
   "source": [
    "rf_acc = rf.score(deberta_X_test, y_test)\n",
    "rf_auc = roc_auc_score(y_test, rf.predict_proba(deberta_X_test)[:,1])"
   ]
  },
  {
   "cell_type": "code",
   "execution_count": 73,
   "id": "f669b44a",
   "metadata": {},
   "outputs": [
    {
     "data": {
      "text/plain": [
       "(0.9881126554498902, 0.9993212659089707)"
      ]
     },
     "execution_count": 73,
     "metadata": {},
     "output_type": "execute_result"
    }
   ],
   "source": [
    "rf_acc, rf_auc"
   ]
  },
  {
   "cell_type": "markdown",
   "id": "5c0058ae",
   "metadata": {},
   "source": [
    "## XGBoost"
   ]
  },
  {
   "cell_type": "code",
   "execution_count": 74,
   "id": "a1529b66",
   "metadata": {},
   "outputs": [],
   "source": [
    "deberta_X_train_xgb = xgb.DMatrix(deberta_X_train, y_train)\n",
    "deberta_X_test_xgb = xgb.DMatrix(deberta_X_test, y_test)"
   ]
  },
  {
   "cell_type": "code",
   "execution_count": 75,
   "id": "1b976b29",
   "metadata": {},
   "outputs": [],
   "source": [
    "params = {\"objective\": \"binary:logistic\"}\n",
    "reg = xgb.train(params, deberta_X_train_xgb, num_boost_round=100)"
   ]
  },
  {
   "cell_type": "code",
   "execution_count": 76,
   "id": "e5e64758",
   "metadata": {},
   "outputs": [],
   "source": [
    "xgb_base_acc = np.mean(y_test == np.where(reg.predict(deberta_X_test_xgb)>0.5, 1, 0))\n",
    "xgb_base_auc = roc_auc_score(y_test, reg.predict(deberta_X_test_xgb))"
   ]
  },
  {
   "cell_type": "code",
   "execution_count": 77,
   "id": "d37f24fb",
   "metadata": {},
   "outputs": [
    {
     "data": {
      "text/plain": [
       "(0.9937820043891734, 0.9997099697685486)"
      ]
     },
     "execution_count": 77,
     "metadata": {},
     "output_type": "execute_result"
    }
   ],
   "source": [
    "xgb_base_acc, xgb_base_auc"
   ]
  },
  {
   "cell_type": "markdown",
   "id": "75e2ff56",
   "metadata": {},
   "source": [
    "# DistilBERT"
   ]
  },
  {
   "cell_type": "code",
   "execution_count": 79,
   "id": "fb35486f",
   "metadata": {},
   "outputs": [],
   "source": [
    "distilbert_embeds = np.load('AIGDetection/distilbert-base-uncased_embeddings.npy')\n",
    "labels = np.load('label.npy')"
   ]
  },
  {
   "cell_type": "code",
   "execution_count": 80,
   "id": "d79adeb2",
   "metadata": {},
   "outputs": [],
   "source": [
    "distilbert_X_train, distilbert_X_test, y_train, y_test = train_test_split(distilbert_embeds, labels, test_size=0.2, random_state=247)"
   ]
  },
  {
   "cell_type": "markdown",
   "id": "8680cd63",
   "metadata": {},
   "source": [
    "## Logistic Regression"
   ]
  },
  {
   "cell_type": "code",
   "execution_count": 81,
   "id": "ac332e31",
   "metadata": {},
   "outputs": [
    {
     "data": {
      "text/plain": [
       "LogisticRegression()"
      ]
     },
     "execution_count": 81,
     "metadata": {},
     "output_type": "execute_result"
    }
   ],
   "source": [
    "lg = LogisticRegression()\n",
    "lg.fit(distilbert_X_train, y_train)"
   ]
  },
  {
   "cell_type": "code",
   "execution_count": 82,
   "id": "08451aad",
   "metadata": {},
   "outputs": [],
   "source": [
    "lg_acc = lg.score(distilbert_X_test, y_test)\n",
    "lg_auc = roc_auc_score(y_test, lg.predict_proba(distilbert_X_test)[:,1])"
   ]
  },
  {
   "cell_type": "code",
   "execution_count": 83,
   "id": "92a0ebe1",
   "metadata": {},
   "outputs": [
    {
     "data": {
      "text/plain": [
       "(0.9952450621799561, 0.9998077482416401)"
      ]
     },
     "execution_count": 83,
     "metadata": {},
     "output_type": "execute_result"
    }
   ],
   "source": [
    "lg_acc, lg_auc"
   ]
  },
  {
   "cell_type": "markdown",
   "id": "d79cc3ed",
   "metadata": {},
   "source": [
    "## Random Forest"
   ]
  },
  {
   "cell_type": "code",
   "execution_count": 84,
   "id": "48172e27",
   "metadata": {},
   "outputs": [
    {
     "data": {
      "text/plain": [
       "RandomForestClassifier()"
      ]
     },
     "execution_count": 84,
     "metadata": {},
     "output_type": "execute_result"
    }
   ],
   "source": [
    "rf = RandomForestClassifier()\n",
    "rf.fit(distilbert_X_train, y_train)"
   ]
  },
  {
   "cell_type": "code",
   "execution_count": 85,
   "id": "77f356d8",
   "metadata": {},
   "outputs": [],
   "source": [
    "rf_acc = rf.score(distilbert_X_test, y_test)\n",
    "rf_auc = roc_auc_score(y_test, rf.predict_proba(distilbert_X_test)[:,1])"
   ]
  },
  {
   "cell_type": "code",
   "execution_count": 86,
   "id": "33342aed",
   "metadata": {},
   "outputs": [
    {
     "data": {
      "text/plain": [
       "(0.987381126554499, 0.9987422383172627)"
      ]
     },
     "execution_count": 86,
     "metadata": {},
     "output_type": "execute_result"
    }
   ],
   "source": [
    "rf_acc, rf_auc"
   ]
  },
  {
   "cell_type": "markdown",
   "id": "2fc8c74d",
   "metadata": {},
   "source": [
    "## XGBoost"
   ]
  },
  {
   "cell_type": "code",
   "execution_count": 87,
   "id": "7360619e",
   "metadata": {},
   "outputs": [],
   "source": [
    "distilbert_X_train_xgb = xgb.DMatrix(distilbert_X_train, y_train)\n",
    "distilbert_X_test_xgb = xgb.DMatrix(distilbert_X_test, y_test)"
   ]
  },
  {
   "cell_type": "code",
   "execution_count": 88,
   "id": "3c5c737e",
   "metadata": {},
   "outputs": [],
   "source": [
    "params = {\"objective\": \"binary:logistic\"}\n",
    "reg = xgb.train(params, distilbert_X_train_xgb, num_boost_round=100)"
   ]
  },
  {
   "cell_type": "code",
   "execution_count": 89,
   "id": "b67e8251",
   "metadata": {},
   "outputs": [],
   "source": [
    "xgb_base_acc = np.mean(y_test == np.where(reg.predict(distilbert_X_test_xgb)>0.5, 1, 0))\n",
    "xgb_base_auc = roc_auc_score(y_test, reg.predict(distilbert_X_test_xgb))"
   ]
  },
  {
   "cell_type": "code",
   "execution_count": 90,
   "id": "0744c4db",
   "metadata": {},
   "outputs": [
    {
     "data": {
      "text/plain": [
       "(0.991953182150695, 0.9996032397451039)"
      ]
     },
     "execution_count": 90,
     "metadata": {},
     "output_type": "execute_result"
    }
   ],
   "source": [
    "xgb_base_acc, xgb_base_auc"
   ]
  }
 ],
 "metadata": {
  "kernelspec": {
   "display_name": "Python 3 (ipykernel)",
   "language": "python",
   "name": "python3"
  },
  "language_info": {
   "codemirror_mode": {
    "name": "ipython",
    "version": 3
   },
   "file_extension": ".py",
   "mimetype": "text/x-python",
   "name": "python",
   "nbconvert_exporter": "python",
   "pygments_lexer": "ipython3",
   "version": "3.9.16"
  }
 },
 "nbformat": 4,
 "nbformat_minor": 5
}
