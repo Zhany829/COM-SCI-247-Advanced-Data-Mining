{
 "cells": [
  {
   "cell_type": "markdown",
   "metadata": {},
   "source": [
    "# CS247 Advanced Data Mining - Assignment 1\n",
    "## Deadline: 11:59PM, January 24, 2023\n",
    "\n",
    "## Instructions\n",
    "Each assignment is structured as a Jupyter notebook, offering interactive tutorials that align with our lectures. You will encounter two types of problems: *write-up problems* and *coding problems*.\n",
    "\n",
    "1. **Write-up Problems:** These problems are primarily theoretical, requiring you to demonstrate your understanding of lecture concepts and to provide mathematical proofs for key theorems. Your answers should include sufficient steps for the mathematical derivations.\n",
    "2. **Coding Problems:** Here, you will be engaging with practical coding tasks. These may involve completing code segments provided in the notebooks or developing models from scratch.\n",
    "\n",
    "To ensure clarity and consistency in your submissions, please adhere to the following guidelines:\n",
    "\n",
    "* For write-up problems, use Markdown bullet points to format text answers. Also, express all mathematical equations using $\\LaTeX$ and avoid plain text such as `x0`, `x^1`, or `R x Q` for equations.\n",
    "* For coding problems, comment on your code thoroughly for readability and ensure your code is executable. Non-runnable code may lead to a loss of **all** points. Coding problems have automated grading, and altering the grading code will result in a deduction of **all** points.\n",
    "* Your submission should show the entire process of data loading, preprocessing, model implementation, training, and result analysis. This can be achieved through a mix of explanatory text cells, inline comments, intermediate result displays, and experimental visualizations.\n",
    "\n",
    "### Submission Requirements\n",
    "\n",
    "* Submit your solutions through GradeScope in BruinLearn.\n",
    "* Late submissions are allowed up to 24 hours post-deadline with a penalty factor of $\\mathbf{1}(t\\leq24)e^{-(\\ln(2)/12)t}$.\n",
    "\n",
    "### Collaboration and Integrity\n",
    "\n",
    "* Collaboration is encouraged, but all final submissions must be your own work. Please acknowledge any collaboration or external sources used, including websites, papers, and GitHub repositories.\n",
    "* Any suspicious cases of academic misconduct will be reported to The Office of the Dean of Students.\n",
    "\n",
    "## Outline\n",
    "* Problem 1: Naïve Bayes (50 points)\n",
    "* Problem 2: Logistic Regression (50 points)\n",
    "* Problem 3: Gaussian Mixture Models (70 points + 10 bonus points)"
   ]
  },
  {
   "cell_type": "markdown",
   "metadata": {},
   "source": [
    "## Problem 1: Naïve Bayes (50 points) <a class=\"anchor\" id=\"problem-1\"></a>"
   ]
  },
  {
   "cell_type": "markdown",
   "metadata": {},
   "source": [
    "### Exercise 1.1: MLE Estimation of Model Parameters (10 points)\n",
    "\n",
    "Recall that given a corpus and labels for each document $D = \\{(\\boldsymbol{x}_d, y_d)\\}_{d=1}^{|D|}$, the log likelihood function of a Bayes model parameterized by $\\Theta = (\\boldsymbol\\beta_1, \\boldsymbol\\beta_2, \\boldsymbol\\beta_3, \\boldsymbol\\pi)$ is:\n",
    "$$\n",
    "\\begin{align}\n",
    "\\mathcal{L}(\\Theta) & = \\log \\prod_{d=1}^{|D|} p(\\boldsymbol{x}_d, y_d | \\Theta) \\\\\n",
    "& = \\sum_{d=1}^{|D|} \\log p(\\boldsymbol{x}_d, y_d | \\Theta) \\\\\n",
    "& = \\sum_{d=1}^{|D|} \\log [p(\\boldsymbol{x}_d | y_d, \\Theta) p(y_d | \\Theta)] \\\\\n",
    "& = \\sum_{d=1}^{|D|} \\left(\\sum_{n=1}^{N}x_{dn}\\log\\beta_{y_d,n} + \\log \\pi_{y_d}\\right).\n",
    "\\end{align}\n",
    "$$\n",
    "Show the MLE estimator of $\\boldsymbol\\beta$. Include necessary derivatives in your answer. (Hint: use Lagrange multipliers to enforce the constraint $\\sum_{n=1}^{N}\\beta_{j,n} = 1$ for all $j$.)"
   ]
  },
  {
   "cell_type": "markdown",
   "metadata": {},
   "source": [
    "**[TODO: Write your answer here]**\n",
    "To find the Maximum Likelihood Estimation estimator of $\\beta$, need to maximize the log-likelihood function $\\mathcal{L}(\\Theta)$ with respect to $\\boldsymbol\\beta$. The log-likelihood function is given by: \n",
    "$$\n",
    "\\mathcal{L}(\\Theta) = \\sum_{d=1}^{|D|} \\left(\\sum_{n=1}^{N}x_{dn}\\log\\beta_{y_d,n} + \\log \\pi_{y_d}\\right).\n",
    "$$\n",
    "To maximize $\\mathcal{L}(\\Theta)$, we can maximize each term separately. Let's consider a single term of the log-likelihood function:\n",
    "$$\n",
    "\\mathcal{L}_d(\\beta) = \\sum_{n=1}^{N} x_{dn}\\log\\beta_{y_d,n} + \\log \\pi_{y_d}).\n",
    "$$\n",
    "let's introduce the constraint $\\sum_{n=1}^{N}\\beta_{j,n} = 1$ for all $j$, using Lagrange multipliers. We define the Lagrangian function as:\n",
    "$$\n",
    "\\mathcal{J}_d(\\beta,\\lambda) = \\mathcal{L}_d(\\beta) + \\lambda (\\sum_{n=1}^{N} \\beta_{j,n}-1).\n",
    "$$\n",
    "To find the MLE estimator, we need to find the values of $\\boldsymbol\\beta$ that maximize $\\mathcal{J}_d(\\boldsymbol\\beta, \\lambda)$. We can start by finding the partial derivatives of $\\mathcal{J}d(\\boldsymbol\\beta, \\lambda)$ with respect to $\\beta{j,n}$ and $\\lambda$ and set them to zero.\n",
    "Taking the derivative with respect to $\\beta_{j,n}$:\n",
    "$$\n",
    "\\frac{\\bigtriangledown \\mathcal{J}_d(\\beta,\\lambda)}{\\bigtriangledown \\beta_{j,n}} = \\frac{x_{dn}}{\\beta_{j,n}}+\\lambda.\n",
    "$$\n",
    "\n",
    "Setting the derivative to zero:\n",
    "\n",
    "$$\n",
    "\\frac{x_{dn}}{\\beta_{j,n}}+\\lambda = 0\n",
    "$$\n",
    "Solving for $\\beta_{j,n}$:\n",
    "$$\n",
    "\\beta_{j,n} = - \\frac{x_{dn}}{\\lambda}\n",
    "$$\n",
    "<!-- Next, taking the derivative with respect to $\\lambda$:\n",
    "$$\n",
    "\\frac{\\bigtriangledown \\mathcal{J}_d(\\beta,\\lambda)}{\\bigtriangledown \\lambda} = \\sum_{n=1}^{N}\\beta_{j,n}-1\n",
    "$$\n",
    "Setting the derivative to zero:\n",
    "$$\n",
    "\\sum_{n=1}^{N}\\beta_{j,n}-1 =0\n",
    "$$\n",
    "Substituting the expression for $\\beta_{j,n}$: -->\n"
   ]
  },
  {
   "cell_type": "markdown",
   "metadata": {},
   "source": [
    "### Execrise 1.2: Implementation of Naïve Bayes in scikit-learn (10 points)\n",
    "\n",
    "In this exercise, you will learn the basics of using scikit-learn to implement a Naïve Bayes classifier. We will use the [Sentiment Polarity Dataset Version 2.0](https://www.cs.cornell.edu/people/pabo/movie-review-data/) for this exercise. This dataset contains 1000 positive and 1000 negative reviews. We have provided the code for dataset preprocessing."
   ]
  },
  {
   "cell_type": "code",
   "execution_count": 1,
   "metadata": {},
   "outputs": [],
   "source": [
    "# Download and load the dataset\n",
    "\n",
    "import nltk\n",
    "from sklearn.datasets import load_files\n",
    "\n",
    "nltk.download('movie_reviews', download_dir='.', quiet=True)\n",
    "reviews = load_files('./corpora/movie_reviews', shuffle=True)"
   ]
  },
  {
   "cell_type": "code",
   "execution_count": 2,
   "metadata": {},
   "outputs": [
    {
     "data": {
      "text/plain": [
       "['neg', 'pos']"
      ]
     },
     "execution_count": 2,
     "metadata": {},
     "output_type": "execute_result"
    }
   ],
   "source": [
    "# Sentiment analysis: `neg` for negative sentiment, `pos` for positive sentiment\n",
    "reviews.target_names"
   ]
  },
  {
   "cell_type": "code",
   "execution_count": 3,
   "metadata": {},
   "outputs": [
    {
     "data": {
      "text/plain": [
       "2000"
      ]
     },
     "execution_count": 3,
     "metadata": {},
     "output_type": "execute_result"
    }
   ],
   "source": [
    "# Number of reviews\n",
    "len(reviews.data)"
   ]
  },
  {
   "cell_type": "code",
   "execution_count": 4,
   "metadata": {},
   "outputs": [],
   "source": [
    "# Split the dataset into training and test sets\n",
    "\n",
    "from sklearn.model_selection import train_test_split\n",
    "reviews_train, reviews_test, y_train, y_test = train_test_split(\n",
    "    reviews.data, reviews.target, test_size=0.20, random_state=12)"
   ]
  },
  {
   "cell_type": "code",
   "execution_count": 5,
   "metadata": {},
   "outputs": [],
   "source": [
    "# Dataset preprocessing: convert reviews to a matrix of token counts\n",
    "\n",
    "from sklearn.feature_extraction.text import CountVectorizer\n",
    "\n",
    "count_vect = CountVectorizer().fit(reviews.data) \n",
    "X_train = count_vect.transform(reviews_train).toarray()\n",
    "X_test = count_vect.transform(reviews_test).toarray()"
   ]
  },
  {
   "cell_type": "markdown",
   "metadata": {},
   "source": [
    "#### Exercise 1.2.1 (8 points)\n",
    "Train the multinomial Naïve Bayes model on the training set and test it on the test set. Report the accuracy of the model on the test set.\n",
    "You would be able to achieve accuracy of around 80% on the test set.\n",
    "\n",
    "(Hint: Refer to the [scikit-learn documentation](https://scikit-learn.org/stable/modules/generated/sklearn.naive_bayes.MultinomialNB.html) for more details on how to use the `MultinomialNB` class.)"
   ]
  },
  {
   "cell_type": "code",
   "execution_count": 6,
   "metadata": {},
   "outputs": [
    {
     "name": "stdout",
     "output_type": "stream",
     "text": [
      "Accuracy: 0.8175\n"
     ]
    }
   ],
   "source": [
    "# Train and test with MultinomialNB\n",
    "\n",
    "import numpy as np\n",
    "from sklearn.naive_bayes import MultinomialNB\n",
    "from sklearn.metrics import accuracy_score\n",
    "clf = MultinomialNB()\n",
    "\n",
    "# TODO: Use the `MultinomialNB` class to train the model on the training set and test it on the test set\n",
    "clf.fit(X_train, y_train)\n",
    "\n",
    "# TODO: Report the accuracy of the model on the test set\n",
    "y_pred = clf.predict(X_test)\n",
    "accuracy = accuracy_score(y_test, y_pred)\n",
    "print(\"Accuracy:\", accuracy)"
   ]
  },
  {
   "cell_type": "markdown",
   "metadata": {},
   "source": [
    "#### Exercise 1.2.2 (2 points)\n",
    "There are two functions of the Naïve Bayes classifier in order to get the probabilities of the predictions: `predict_proba` and `predict_log_proba`. What is the difference between them? What is the advantage of using `predict_log_proba` over `predict_proba`?\n",
    "\n",
    "(Hint: If you are unsure about this question, please proceed to Exercise 1.3.1 and come back to this question later.)"
   ]
  },
  {
   "cell_type": "markdown",
   "metadata": {},
   "source": [
    "**[TODO: Write your answer here]**\n",
    "\n",
    "Difference：\n",
    "  predict_proba returns the estimated probabilities of the predicted classes .The probabilities are normalized, meaning that the sum of probabilities for each sample will be equal to 1.The probabilities are in their original scale (not logarithmic)\n",
    "predict_log_proba returns the logarithm of the estimated probabilities of the predicted classes. \n",
    "\n",
    "Advantage of  using `predict_log_proba` over `predict_proba`:\n",
    "a.Taking logarithms can help prevent underflow or loss of precision when dealing with very small probabilities.\n",
    "b. Logarithms can simplify calculations.\n",
    "c.  predict_log_proba can be compared more easily.\n"
   ]
  },
  {
   "cell_type": "markdown",
   "metadata": {},
   "source": [
    "### Exercise 1.3: Your Implementation of Naïve Bayes (30 points)\n",
    "\n",
    "In this exercise, you will implement a Naïve Bayes classifier by yourself and compare it with the scikit-learn implementation. You will use the same dataset as in Exercise 1.2.\n",
    "We have provided a code skeleton for your implementation."
   ]
  },
  {
   "cell_type": "markdown",
   "metadata": {},
   "source": [
    "#### Exercise 1.3.1 (24 points)\n",
    "Implement the `fit`, `predict_proba`, and `predict_log_proba` methods in the `NaiveBayes` class, according to what we have learned from lectures.\n",
    "Each implementation is worth 8 points.\n",
    "Please try to optimize for efficiency. Your code should run in seconds."
   ]
  },
  {
   "cell_type": "code",
   "execution_count": 36,
   "metadata": {},
   "outputs": [],
   "source": [
    "class NaiveBayes(object):\n",
    "    \"\"\"\n",
    "    Your implementation of Naive Bayes classifier.\n",
    "    \"\"\"\n",
    "\n",
    "    def __init__(self, alpha=1.0):\n",
    "        \"\"\"\n",
    "        Initialize the Naive Bayes classifier.\n",
    "        \n",
    "        Parameters\n",
    "        ----------\n",
    "        alpha : float, default=1.0\n",
    "            Additive (Laplace/Lidstone) smoothing parameter\n",
    "            (0 for no smoothing).\n",
    "        \"\"\"\n",
    "\n",
    "        self.alpha = alpha\n",
    "    \n",
    "    def fit(self, X, y):\n",
    "        \"\"\"\n",
    "        Fit the Naive Bayes classifier on the training set (X, y).\n",
    "        \n",
    "        Parameters\n",
    "        ----------\n",
    "        X : array-like, shape (n_samples, n_features)\n",
    "            Training vectors, where n_samples is the number of samples\n",
    "            and n_features is the number of features.\n",
    "        y : array-like, shape (n_samples,)\n",
    "            Target values.\n",
    "        \"\"\"\n",
    "\n",
    "        self.n_features = X.shape[1]\n",
    "        self.n_samples = X.shape[0]\n",
    "        self.n_classes = np.unique(y).shape[0]\n",
    "\n",
    "        self.beta = np.zeros((self.n_classes, self.n_features))\n",
    "        self.pi = np.zeros(self.n_classes)\n",
    "\n",
    "        # TODO: Given (X, y), compute the parameters `beta` and `pi`\n",
    "        # (Hint: Calculate `beta` according to the frequencies of words\n",
    "        #    and `pi` according to the class frequencies.\n",
    "        #    Remember to consider `alpha` for the Laplace smoothing.)\n",
    "        \n",
    "        for i in range(self.n_samples):\n",
    "            if y[i] == 1:\n",
    "#                 self.pi[1] += 1\n",
    "                self.beta[1] += X[i]\n",
    "            else:\n",
    "#                 self.pi[0] += 1\n",
    "                self.beta[0] += X[i]\n",
    "\n",
    "#         self.pi /= self.n_samples\n",
    "        self.beta += self.alpha  # Add Laplace smoothing\n",
    "#         self.beta[1] += self.alpha  # Add Laplace smoothing\n",
    "        self.beta /= np.sum(self.beta, axis=1)[:, np.newaxis]  # 归一化\n",
    "        \n",
    "        unique_classes, class_counts = np.unique(y, return_counts=True)\n",
    "        total_samples = y.size\n",
    "        for class_label, class_count in zip(unique_classes, class_counts):\n",
    "            self.pi[class_label] = class_count / total_samples\n",
    "            \n",
    "\n",
    "        self.log_beta = np.log(self.beta)\n",
    "        self.log_pi = np.log(self.pi)\n",
    "        \n",
    "        \n",
    "\n",
    "    def predict_proba(self, X):\n",
    "        \"\"\"\n",
    "        Return posterior probabilities of classification for X.\n",
    "        \n",
    "        Parameters\n",
    "        ----------\n",
    "        X : array-like, shape (n_samples, n_features)\n",
    "            Test vectors, where n_samples is the number of samples\n",
    "            and n_features is the number of features.\n",
    "        \n",
    "        Returns\n",
    "        -------\n",
    "        y_prob : array-like, shape (n_samples, n_classes)\n",
    "            Posterior probabilities of classification per class.\n",
    "        \"\"\"\n",
    "\n",
    "        # TODO: Given `X``, return the posterior probabilities of classification\n",
    "        # (Hint: Use `beta`` and `pi`. Remember to normalize the probabilities.)\n",
    "        n_samples, _ = X.shape\n",
    "        probabilities = np.zeros((n_samples, 2))\n",
    "\n",
    "        for i in range(n_samples):\n",
    "            probabilities[i, 0] = np.prod(self.beta[0] ** (1 - X[i]) * (1 - self.beta[0]) ** X[i]) * self.pi[0]\n",
    "            probabilities[i, 1] = np.prod(self.beta[1] ** (1 - X[i]) * (1 - self.beta[1]) ** X[i]) * self.pi[1]\n",
    "\n",
    "#         probabilities /= np.sum(probabilities, axis=1)[:, np.newaxis] \n",
    "        return probabilities\n",
    "    \n",
    "        \n",
    "\n",
    "    def predict_log_proba(self, X):\n",
    "        \"\"\"\n",
    "        Return posterior log probabilities of classification for X.\n",
    "        \n",
    "        Parameters\n",
    "        ----------\n",
    "        X : array-like, shape (n_samples, n_features)\n",
    "            Test vectors, where n_samples is the number of samples\n",
    "            and n_features is the number of features.\n",
    "        \n",
    "        Returns\n",
    "        -------\n",
    "        y_log_prob : array-like, shape (n_samples, n_classes)\n",
    "            Posterior log probabilities of classification per class.\n",
    "        \"\"\"\n",
    "\n",
    "        # TODO: Given X, return the posterior log probabilities of classification\n",
    "        # (Hint: Use `log_beta`` and `log_pi`.)\n",
    "\n",
    "        log_probabilities = []\n",
    "        for sample in X:\n",
    "            class_scores = []\n",
    "            for class_label in range(2):\n",
    "                # Calculate the probability score under a given category\n",
    "                score = np.sum(np.log(self.beta[class_label]) * sample +\n",
    "                               np.log(1 - self.beta[class_label]) * (1 - sample)) + np.log(self.pi[class_label])\n",
    "                class_scores.append(score)\n",
    "\n",
    "            # The probability scores are normalized and converted to logarithmic probabilities\n",
    "            log_scores = class_scores - np.max(class_scores)\n",
    "            log_probabilities.append(log_scores - np.log(np.sum(np.exp(log_scores))))\n",
    "\n",
    "        return np.array(log_probabilities)\n",
    "    \n",
    "\n",
    "    def predict(self, X):\n",
    "        log_probabilities = self.predict_log_proba(X)\n",
    "        return np.argmax(log_probabilities, axis=1)\n",
    "    \n",
    "    "
   ]
  },
  {
   "cell_type": "code",
   "execution_count": 37,
   "metadata": {},
   "outputs": [],
   "source": [
    "my_clf = NaiveBayes()\n",
    "my_clf.fit(X_train, y_train)\n",
    "\n",
    "# Sanity checks\n",
    "assert my_clf.n_features == X_train.shape[1]\n",
    "assert my_clf.n_samples == X_train.shape[0]\n",
    "assert my_clf.n_classes == np.unique(y_train).shape[0]\n",
    "assert my_clf.beta.shape == (my_clf.n_classes, my_clf.n_features)\n",
    "assert my_clf.pi.shape == (my_clf.n_classes,)\n",
    "assert np.isclose(my_clf.pi.sum(), 1)\n",
    "assert np.allclose(my_clf.beta.sum(axis=1), 1)"
   ]
  },
  {
   "cell_type": "markdown",
   "metadata": {},
   "source": [
    "#### Exercise 1.3.2 (6 points)\n",
    "\n",
    "Compare the performance of your implementation with sklearn's implementation on the test set.\n",
    "Report the accuracy of both implementations on the test set.\n",
    "Ideally, you should be able to achieve accuracy of around 80% on the test set, similar to the scikit-learn implementation."
   ]
  },
  {
   "cell_type": "code",
   "execution_count": 39,
   "metadata": {},
   "outputs": [
    {
     "name": "stdout",
     "output_type": "stream",
     "text": [
      "Accuracy: 0.8175\n"
     ]
    }
   ],
   "source": [
    "# TODO: Report the accuracy of your implementation on the test set\n",
    "y_pred = my_clf.predict(X_test)\n",
    "accuracy = accuracy_score(y_test, y_pred)\n",
    "print(\"Accuracy:\", accuracy)"
   ]
  },
  {
   "cell_type": "markdown",
   "metadata": {},
   "source": [
    "## Problem 2: Logistic Regression (50 points)\n",
    "\n",
    "In this problem, we review the classification model known as logistic regression. This model is motivated from a probabilistic perspective, hence we start with this formulation. In the following, we assume that:\n",
    "- Data (boldfont, uppercase X) $\\mathbf{X} \\in \\mathbb{R}^{n\\times d}$, $n$ is the number of data points and $d$ the number of features.\n",
    "- $\\mathbf{x}_i$ is a single data point and $\\mathbf{x}_i \\in \\mathbb{R}^d$.\n",
    "- $\\mathbf{Y} \\in \\mathbb{R}^n$ are the labels of the data points, $Y_i$ is the label of $\\mathbf{x}_i$.\n",
    "- We denote (uppercase letter) $X,Y,Z$,... to be __random variables__, which are measurable maps from the sample space to the real line: $X: \\Omega \\rightarrow \\mathbb{R}$\n",
    "- We denote $P_X$ to be the __probability distribution__ associated with the random variable $X$.\n",
    "- We denote $f_X$ to be the __probability density function (pdf)__ associated with the random variable $X$, if it exists. If the random variable is discrete, then we also use $P_X$ to denote its __probability mass function (pmf)__."
   ]
  },
  {
   "cell_type": "markdown",
   "metadata": {},
   "source": [
    "### Exercise 2.1: Maximum Likelihood Formulation (12 points)\n",
    "\n",
    "Maximum Likelihood Estimation (MLE) is the most standard probabilistic learning framework. In this formulation, we:\n",
    "- Assume that __conditional distribution of label given data__, $P(\\mathbf{Y}\\mid\\mathbf{X})$, follows a parametric probabilistic distribution.\n",
    "- Assume that data pairs are sampled __independently and identically (i.i.d)__ from the distribution. This means $P_{Y\\mid X} := P(\\mathbf{Y}\\mid\\mathbf{X}) = \\prod_{i=1}^n P(\\mathbf{y}_i\\mid\\mathbf{x}_i)$.\n",
    "\n",
    "__As a technical note__, here $P$ is the probability distribution for the random variable $Y\\mid\\mathbf{X}$, not the _probability density function (pdf)_; however, for well-behaved distributions, such as those from the __exponential family__ (including Gaussian, Bernoulli, Poisson, Exponential, etc.), we can just use their pdfs in the case of independence. This means if i.i.d assumption holds, then the joint density function factorizes:\n",
    "$$\n",
    "f_{X}(x_1,x_2,\\cdots, x_n) = f_{X_1,X_2,\\cdots, X_n}(x_1,x_2,\\cdots, x_n) = \\prod_{i=1}^n f_{X_i}(x_i)\n",
    "$$\n",
    "\n",
    "__Example__: In the case of linear regression, we have that $P_{y_i\\mid\\mathbf{X}_i} \\sim \\mathcal{N}(y_i; W^\\top \\mathbf{X}_i + b_i, \\Sigma)$. In this case we have\n",
    "$$\n",
    "f_{Y\\mid X}(x_1, x_2, \\cdots, x_n, y_1, \\cdots, y_n) = \\prod_{i=1}^n f_{Y_i\\mid X_i}(x_i) = \\prod_{i=1}^n \\frac{1}{(2\\pi)^{d/2}|\\Sigma|^{1/2}}\\exp \\left\\{-\\frac{1}{2} (y_i - W^\\top \\mathbf{x}_i - b_i)^\\top \\Sigma^{-1} (y_i - W^\\top \\mathbf{x}_i-b_i) \\right\\}\n",
    "$$\n",
    "\n",
    "To perform a MLE inference, we need to obtain the __likelihood function__, which for exponential family distributions, can simply be written as the joint density function above, but now we change the notation since for likelihood function, __parameters of the distributions are treated as inputs__, e.g.:\n",
    "$$\n",
    "L(W, b, \\Sigma) = \\prod_{i=1}^n \\frac{1}{(2\\pi)^{d/2}|\\Sigma|^{1/2}}\\exp \\left\\{-\\frac{1}{2} (y_i - W^\\top \\mathbf{x}_i - b_i)^\\top \\Sigma^{-1} (y_i - W^\\top \\mathbf{x}_i-b_i) \\right\\}\n",
    "$$\n",
    "\n",
    "However, product term is tricky to deal with, we hence need __log-likelihood__ function. $l(W,b,\\Sigma) = \\log L(W,b,\\Sigma)$ to turn the product into summation. From their on, we can invoke any optimization algorthm (or do it by hand), to maximize the log-likelihood function.\n",
    "\n",
    "Now, the exercise is to write down the formulation of MLE for the following two classes of distributions."
   ]
  },
  {
   "cell_type": "markdown",
   "metadata": {},
   "source": [
    "#### Exercise 2.1.1 (3 points)\n",
    "\n",
    "Write down the log-likelihood function for $n$ i.i.d random samples from the Bernoulli distribution, which has distribution function\n",
    "$$P_X(x_i;p) = p^{x_i}(1-p)^{(1-x_i)}$$\n",
    "where $p\\in [0,1]$ and $x_i \\in \\{0,1\\}$."
   ]
  },
  {
   "cell_type": "markdown",
   "metadata": {},
   "source": [
    "**[TODO: Write your answer here]**\n",
    "\n",
    "$$\n",
    "L(p) = log(\\prod_{i=1}^n P_X(x_i,p)) \\\\\n",
    "    = log(prod_{i=1}^n p^{x_i}(1-p)^{1-x_i}) \\\\\n",
    "   = \\sum _{i=1}^n x_i log(p) + (1-x_i)log(1-p)\n",
    "$$\n",
    "Where $L(p)$ represents the log-likelihood function for the observed data $x_1, x_2, \\ldots, x_n$ given the parameter $p$. The goal of maximum likelihood estimation would be to find the value of $p$ that maximizes this log-likelihood function."
   ]
  },
  {
   "cell_type": "markdown",
   "metadata": {},
   "source": [
    "#### Exercise 2.1.2 (3 points)\n",
    "\n",
    "Write down the log-likelihood function for $n$ i.i.d random samples from the Poisson distribution, which has distribution function\n",
    "$$P_X(x_i; \\lambda) = \\frac{\\lambda^{x_i} e^{-\\lambda}}{{x_i}!}$$\n",
    "where $x_i \\in \\{1,2,\\cdots,\\}$.  "
   ]
  },
  {
   "cell_type": "markdown",
   "metadata": {},
   "source": [
    "**[TODO: Write your answer here]**\n",
    "\n",
    "$$L(p) = ∏𝑖=1^𝑛 𝑃_𝑋(𝑥_𝑖; 𝑝)$$"
   ]
  },
  {
   "cell_type": "markdown",
   "metadata": {},
   "source": [
    "#### Exercise 2.1.3 (3 points)\n",
    "\n",
    "Write down the __negative log-likelihood__ function for the logistic regression model applied to $n$ data points, where for each observed pair $(\\mathbf{x}_i, y_i)$, we assume that $P_{y_i\\mid X_i} \\sim \\text{Bernoulli}(\\sigma(W^\\top \\mathbf{x}_i))$.\n",
    "\n",
    "(Hint: Refer to Exercise 2.1.1 for the parametric form. Also you don't need to write down exact formula for the sigmoid function $\\sigma$.)"
   ]
  },
  {
   "cell_type": "markdown",
   "metadata": {},
   "source": [
    "**[TODO: Write your answer here]**\n",
    "$$𝐿(𝑊) = -∑𝑖=1^𝑛 [𝑦_𝑖 log(𝜎(𝑊^⊤𝐱_𝑖)) + (1−𝑦_𝑖) log(1 − 𝜎(𝑊^⊤𝐱_𝑖))]$$"
   ]
  },
  {
   "cell_type": "markdown",
   "metadata": {},
   "source": [
    "#### Exercise 2.1.4 (3 points)\n",
    "\n",
    "Suppose you want to perform maximum likelihood inference for Gaussian, Poisson, and Bernoulli random variables. What would be the difference, in terms of optimization procedure, when you deal with these three random variables?\n",
    "\n",
    "(Hint: Think about the values the parameters of these distributions can take.)"
   ]
  },
  {
   "cell_type": "markdown",
   "metadata": {},
   "source": [
    "**[TODO: Write your answer here]**\n",
    "\n",
    "Difference: \n",
    "```  \n",
    "Gaussian,the likelihood function is typically expressed as the product of the probability density function values for each observed data point. \n",
    "Poisson,the likelihood function is expressed as the product of the probability mass function values for each observed count.\n",
    "Bernoulli, the likelihood function is expressed as the product of the probability mass function values for each observed binary outcome.\n",
    "\n",
    "```"
   ]
  },
  {
   "cell_type": "markdown",
   "metadata": {},
   "source": [
    "### Exercise 2.2: Implemention of Logistic Regression (38 points)"
   ]
  },
  {
   "cell_type": "code",
   "execution_count": 40,
   "metadata": {},
   "outputs": [],
   "source": [
    "# Dependencies\n",
    "import numpy as np\n",
    "import pandas as pd\n",
    "import scipy.optimize as opt\n",
    "import matplotlib.pyplot as plt\n",
    "\n",
    "from sklearn import metrics\n",
    "from scipy.stats import multivariate_normal\n",
    "from sklearn.mixture import GaussianMixture\n",
    "from sklearn.metrics import silhouette_score\n",
    "from sklearn.decomposition import PCA\n",
    "from sklearn.preprocessing import StandardScaler, normalize\n",
    "from sklearn.model_selection import train_test_split"
   ]
  },
  {
   "cell_type": "markdown",
   "metadata": {},
   "source": [
    "#### Exercise 2.2.1 (8 points)\n",
    "Analytically calculate the gradient of logistic regression negative log-likelihood with respect to parameter $W$. Show all of your steps."
   ]
  },
  {
   "cell_type": "markdown",
   "metadata": {},
   "source": [
    "**[TODO: Write your answer here]**\n",
    "\n",
    "\n",
    "define the logistic regression negative log-likelihood function for $𝑛$ data points:\n",
    "\n",
    "$𝐿(𝑊) = -∑𝑖=1^𝑛 [𝑦_𝑖 log(𝜎(𝑊_⊤𝐱_𝑖)) + (1−𝑦_𝑖) log(1 − 𝜎(𝑊^⊤𝐱_𝑖))]$\n",
    "\n",
    "where $𝑊$ is the parameter vector, $𝐱_𝑖$ is the feature vector for the $𝑖$-th data point, and $𝑦_𝑖$ is the corresponding binary label (0 or 1).\n",
    "\n",
    "To calculate the gradient, we need to differentiate $𝐿(𝑊)$ with respect to each component of $𝑊$. Let's consider the $𝑘$-th component of $𝑊$. We will denote it as $𝑊[𝑘]$.\n",
    "\n",
    "Step 1: Differentiate the sigmoid function $𝜎(𝑊^⊤𝐱)$ with respect to $𝑊[𝑘]$:\n",
    "\n",
    "$𝜕𝜎(𝑊^⊤𝐱) / 𝜕𝑊[𝑘] = 𝜎(𝑊^⊤𝐱) (1 - 𝜎(𝑊^⊤𝐱)) 𝜕(𝑊^⊤𝐱) / 𝜕𝑊[𝑘]\n",
    "= 𝜎(𝑊^⊤𝐱) (1 - 𝜎(𝑊^⊤𝐱)) 𝑥[𝑘]$\n",
    "\n",
    "Step 2: Differentiate the log-likelihood function $𝐿(𝑊)$ with respect to $𝑊[𝑘]$:\n",
    "\n",
    "\n",
    "$𝜕𝐿(𝑊) / 𝜕𝑊[𝑘] = -∑𝑖=1^𝑛 [𝑦_𝑖 𝜕log(𝜎(𝑊^⊤𝐱_𝑖)) / 𝜕𝑊[𝑘] + (1−𝑦_𝑖) 𝜕log(1 − 𝜎(𝑊^⊤𝐱_𝑖)) / 𝜕𝑊[𝑘]]$\n",
    "\n",
    "Using the chain rule, we can express the partial derivatives in terms of the derivatives of the sigmoid function:\n",
    "\n",
    "\n",
    "$𝜕log(𝜎(𝑊^⊤𝐱^𝑖)) / 𝜕𝑊[𝑘] = 𝜕log(𝜎(𝑊^⊤𝐱^𝑖)) / 𝜕𝜎(𝑊^⊤𝐱_𝑖) * 𝜕𝜎(𝑊^⊤𝐱_𝑖) / 𝜕𝑊[𝑘]\n",
    "= 𝑦_𝑖 (1 - 𝜎(𝑊^⊤𝐱_𝑖)) 𝑥[𝑘]$\n",
    "\n",
    "$𝜕log(1 − 𝜎(𝑊^⊤𝐱_𝑖)) / 𝜕𝑊[𝑘] = 𝜕log(1 − 𝜎(𝑊^⊤𝐱_𝑖)) / 𝜕𝜎(𝑊^⊤𝐱_𝑖) * 𝜕𝜎(𝑊^⊤𝐱_𝑖) / 𝜕𝑊[𝑘]\n",
    "= - (1 - 𝑦_𝑖) 𝜎(𝑊^⊤𝐱_𝑖) 𝑥[𝑘]$\n",
    "\n",
    "Step 3: Substitute the expressions for the partial derivatives into the gradient expression:\n",
    "\n",
    "$𝜕𝐿(𝑊) / 𝜕𝑊[𝑘] = -∑𝑖=1^𝑛 [(𝑦_𝑖 - 𝜎(𝑊^⊤𝐱_𝑖)) 𝑥[𝑘]]$\n",
    "\n",
    "represents the contribution of each data point to the gradient calculation. It indicates how much each data point influences the update of the parameter $𝑊[𝑘]$ during the optimization process.\n"
   ]
  },
  {
   "cell_type": "markdown",
   "metadata": {},
   "source": [
    "In the following exercises, we load a sample dataset, and then implement a logistic regression model by hand; in the end, we compare the prediction performance with a standard logistic regression model from the scikit-learn library."
   ]
  },
  {
   "cell_type": "code",
   "execution_count": 76,
   "metadata": {},
   "outputs": [
    {
     "name": "stdout",
     "output_type": "stream",
     "text": [
      "(99, 2)\n",
      "(99, 1)\n"
     ]
    }
   ],
   "source": [
    "sample_data = pd.read_csv(\"sample_data.txt\", delimiter=\",\")\n",
    "n,d = sample_data.shape\n",
    "sample_data.columns = [\"score_1\", \"score_2\", \"label\"]\n",
    "X = sample_data[[\"score_1\", \"score_2\"]].values\n",
    "y = sample_data[\"label\"].values.reshape(-1,1)\n",
    "print(X.shape)\n",
    "print(y.shape)"
   ]
  },
  {
   "cell_type": "code",
   "execution_count": 77,
   "metadata": {},
   "outputs": [
    {
     "data": {
      "text/plain": [
       "(3, 1)"
      ]
     },
     "execution_count": 77,
     "metadata": {},
     "output_type": "execute_result"
    }
   ],
   "source": [
    "np.random.seed(1234)\n",
    "W_init = np.random.randn(d,1)\n",
    "W_init.shape"
   ]
  },
  {
   "cell_type": "markdown",
   "metadata": {},
   "source": [
    "#### Exercise 2.2.2 (10 points)\n",
    "Implement a logistic regression model by hand, by specifying the following functions:\n",
    "- `sigmoid(x)` which implements the sigmoid function\n",
    "- `cost_function(W, X, y)`, which returns the negative log-likelihood and the gradient with respect to parameter `W`\n",
    "\n",
    "(Hint: Tou may want to deal with numerical issues with `log` with something like `eps=1e-6`.)"
   ]
  },
  {
   "cell_type": "code",
   "execution_count": 78,
   "metadata": {},
   "outputs": [],
   "source": [
    "def sigmoid(x):\n",
    "    # TODO: Implement the sigmoid function\n",
    "    return 1 / (1 + np.exp(-x))\n",
    "    pass"
   ]
  },
  {
   "cell_type": "code",
   "execution_count": 79,
   "metadata": {},
   "outputs": [],
   "source": [
    "# W: Model parameters of shape (d,1)\n",
    "# X: Input of shape (N,d)\n",
    "# y: Input of shape (N,1)\n",
    "# Returns: Negative-log-likelihood, gradient\n",
    "def cost_function(W, X, y):\n",
    "    # TODO: Implement the negative log-likelihood function and its gradient with respect to parameter `W`\n",
    "    # Number of data points\n",
    "    n = X.shape[0]\n",
    "\n",
    "    # Add a column of ones to X for the bias term\n",
    "    X = np.column_stack((np.ones((n, 1)), X))\n",
    "\n",
    "    # Compute the linear transformation of input features\n",
    "    z = np.dot(X, W)\n",
    "\n",
    "    # Compute the sigmoid of the linear transformation\n",
    "    h = sigmoid(z)\n",
    "\n",
    "    # Compute the negative log-likelihood\n",
    "    J = -np.mean(y * np.log(h) + (1 - y) * np.log(1 - h))\n",
    "\n",
    "    # Compute the gradient\n",
    "    gradient = np.dot(X.T, (h - y)) / n\n",
    "\n",
    "    return J, gradient\n",
    "    pass"
   ]
  },
  {
   "cell_type": "markdown",
   "metadata": {},
   "source": [
    "#### Exercise 2.2.3 (6 points)\n",
    "\n",
    "Implement gradient descent and use it to train the logistic regression model."
   ]
  },
  {
   "cell_type": "code",
   "execution_count": 80,
   "metadata": {},
   "outputs": [],
   "source": [
    "\"\"\"\n",
    "Gradient descent algorithm: update the parameter `W` at each iteration\n",
    "Returns: \n",
    "    - A `List` recording losses at each iteration\n",
    "    - The final optimal value of `W`\n",
    "\"\"\"\n",
    "def gradient_descent(X, y, W, learning_rate, n_iters):\n",
    "    # TODO: Implement the gradient descent algorithm\n",
    "    # Initialize the parameter vector\n",
    "    records = []\n",
    "    # Perform gradient descent\n",
    "    for iteration in range(n_iters):\n",
    "        # Compute the negative log-likelihood and gradient\n",
    "        cost, gradient = cost_function(W, X, y)\n",
    "\n",
    "        # Update the parameters\n",
    "        W = W - (learning_rate * gradient)\n",
    "\n",
    "        records.append((cost, W))\n",
    "    \n",
    "    return records, W"
   ]
  },
  {
   "cell_type": "code",
   "execution_count": 68,
   "metadata": {},
   "outputs": [
    {
     "name": "stdout",
     "output_type": "stream",
     "text": [
      "Iteration 0: Parameters = [(nan, array([[ 0.46414515],\n",
      "       [-0.63780094],\n",
      "       [ 0.91474864]])), (nan, array([[ 0.44700916],\n",
      "       [-0.88650582],\n",
      "       [-0.19611297]])), (48.66397586470026, array([[0.50761522],\n",
      "       [3.64191374],\n",
      "       [4.28609322]])), (nan, array([[0.46822128],\n",
      "       [1.57457193],\n",
      "       [2.15802151]])), (nan, array([[ 0.42882734],\n",
      "       [-0.49276987],\n",
      "       [ 0.0299498 ]])), (20.71237988931243, array([[0.48943339],\n",
      "       [4.03564931],\n",
      "       [4.51215518]])), (nan, array([[0.45003945],\n",
      "       [1.96830751],\n",
      "       [2.38408347]])), (nan, array([[ 0.41064551],\n",
      "       [-0.09903429],\n",
      "       [ 0.25601176]])), (3.5778386513386518, array([[ 0.37260584],\n",
      "       [-2.04975555],\n",
      "       [-1.82006295]])), (174.1746836673115, array([[0.4332119 ],\n",
      "       [2.47866401],\n",
      "       [2.66214323]]))]\n",
      "Iteration 1: Parameters = [[0.4332119 ]\n",
      " [2.47866401]\n",
      " [2.66214323]]\n"
     ]
    },
    {
     "name": "stderr",
     "output_type": "stream",
     "text": [
      "C:\\Users\\Dell\\anaconda3\\envs\\py37\\lib\\site-packages\\ipykernel_launcher.py:20: RuntimeWarning: divide by zero encountered in log\n",
      "C:\\Users\\Dell\\anaconda3\\envs\\py37\\lib\\site-packages\\ipykernel_launcher.py:20: RuntimeWarning: invalid value encountered in multiply\n"
     ]
    }
   ],
   "source": [
    "# TODO: Run gradient descent and obtain the records alongside optimal `W` \n",
    "\n",
    "W = W_init # np.zeros(d + 1)\n",
    "learning_rate = 0.1\n",
    "num_iterations = 10\n",
    "# Train the logistic regression model and obtain records\n",
    "records = gradient_descent(X, y, W, learning_rate, num_iterations)\n",
    "\n",
    "# Print the records alongside the optimal parameters\n",
    "for iteration, params in enumerate(records):\n",
    "    print(f'Iteration {iteration}: Parameters = {params}')\n"
   ]
  },
  {
   "cell_type": "markdown",
   "metadata": {},
   "source": [
    "#### Exercise 2.2.4 (6 points)\n",
    "\n",
    "Plot the training curve (y-axis as the negative log-likelihood, and x-axis as training iterations), and experiment on different learning rates and `n_iters` to ensure convergence."
   ]
  },
  {
   "cell_type": "code",
   "execution_count": 81,
   "metadata": {},
   "outputs": [
    {
     "name": "stderr",
     "output_type": "stream",
     "text": [
      "C:\\Users\\Dell\\anaconda3\\envs\\py37\\lib\\site-packages\\ipykernel_launcher.py:20: RuntimeWarning: divide by zero encountered in log\n",
      "C:\\Users\\Dell\\anaconda3\\envs\\py37\\lib\\site-packages\\ipykernel_launcher.py:20: RuntimeWarning: invalid value encountered in multiply\n"
     ]
    },
    {
     "data": {
      "image/png": "[encoded data removed]",
      "text/plain": [
       "<Figure size 864x648 with 9 Axes>"
      ]
     },
     "metadata": {
      "needs_background": "light"
     },
     "output_type": "display_data"
    }
   ],
   "source": [
    "# TODO: Use matplotlib to plot the losses and show convergence\n",
    "learning_rates = [0.1, 0.01, 0.001]\n",
    "num_iterations = [100, 1000, 5000]\n",
    "\n",
    "# Plot the training curve for different learning rates and number of iterations\n",
    "fig, axs = plt.subplots(len(learning_rates), len(num_iterations), figsize=(12, 9))\n",
    "\n",
    "for i, lr in enumerate(learning_rates):\n",
    "    for j, iterations in enumerate(num_iterations):\n",
    "        # Train the logistic regression model and obtain records\n",
    "        records, optimal_params = gradient_descent(X, y, W_init, lr, iterations)\n",
    "\n",
    "        # Extract the cost values from the records\n",
    "        costs = [record[0] for record in records]\n",
    "\n",
    "        # Plot the training curve\n",
    "        ax = axs[i, j]\n",
    "        ax.plot(range(iterations), costs)\n",
    "        ax.set_title(f'Learning Rate: {lr}, Iterations: {iterations}')\n",
    "        ax.set_xlabel('Training Iterations')\n",
    "        ax.set_ylabel('Negative Log-Likelihood')\n",
    "\n",
    "plt.tight_layout()\n",
    "plt.show()\n"
   ]
  },
  {
   "cell_type": "markdown",
   "metadata": {},
   "source": [
    "#### Exercise 2.2.5 (8 points)\n",
    "\n",
    "Use the `sklearn.linear_model.LogisticRegression` model to fit the given `X` and `y`, then report the optimum values obtained from this model and compare with the result from Exercise 2.2.3.\n",
    "Are the optimal value of parameters similar? If so, explain why. If not, explain what may cause the difference between your implementation and the one from sklearn."
   ]
  },
  {
   "cell_type": "code",
   "execution_count": 82,
   "metadata": {},
   "outputs": [
    {
     "name": "stdout",
     "output_type": "stream",
     "text": [
      "Optimal parameters from sklearn: [-24.76261953   0.20251777   0.19901181]\n",
      "Optimal parameters from Exercise 2.2.3: [[-7.06131193]\n",
      " [ 2.85984684]\n",
      " [ 2.97938707]]\n"
     ]
    },
    {
     "name": "stderr",
     "output_type": "stream",
     "text": [
      "C:\\Users\\Dell\\anaconda3\\envs\\py37\\lib\\site-packages\\sklearn\\utils\\validation.py:63: DataConversionWarning: A column-vector y was passed when a 1d array was expected. Please change the shape of y to (n_samples, ), for example using ravel().\n",
      "  return f(*args, **kwargs)\n",
      "C:\\Users\\Dell\\anaconda3\\envs\\py37\\lib\\site-packages\\ipykernel_launcher.py:20: RuntimeWarning: divide by zero encountered in log\n",
      "C:\\Users\\Dell\\anaconda3\\envs\\py37\\lib\\site-packages\\ipykernel_launcher.py:20: RuntimeWarning: invalid value encountered in multiply\n"
     ]
    }
   ],
   "source": [
    "# TODO: scikit-learn logistic regression\n",
    "import numpy as np\n",
    "from sklearn.linear_model import LogisticRegression\n",
    "\n",
    "# Fit Logistic Regression model\n",
    "model = LogisticRegression()\n",
    "model.fit(X, y)\n",
    "\n",
    "# Obtain the optimal parameter values\n",
    "optimal_params_sklearn = np.concatenate((model.intercept_, model.coef_.flatten()))\n",
    "\n",
    "# Obtain the optimal parameter values from Exercise 2.2.3\n",
    "optimal_params_custom = gradient_descent(X, y,W_init, learning_rate=0.1, n_iters=1000)[-1]\n",
    "\n",
    "print(\"Optimal parameters from sklearn:\", optimal_params_sklearn)\n",
    "print(\"Optimal parameters from Exercise 2.2.3:\", optimal_params_custom)"
   ]
  },
  {
   "cell_type": "markdown",
   "metadata": {},
   "source": [
    "**[TODO: Write your answer here]**\n",
    "```\n",
    "Their results are different, probably because of the choice of hyperparameters.\n",
    "\n",
    "The learning rate and number of iterations used in the gradient descent algorithm for Exercise 2.2.3 can affect convergence and the resulting optimal parameter values. Choosing appropriate hyperparameters is crucial for achieving similar results.\n",
    "```\n"
   ]
  },
  {
   "cell_type": "markdown",
   "metadata": {},
   "source": [
    "## Problem 3: Gaussian Mixture Model (70 points + 10 bonus points)\n",
    "\n",
    "In this problem, we will review a commonly used __latent variable model__ called Gaussian Mixture Model (GMM). In particular, we will focus on the property of learning this model, first from the perspective of MLE and then from the perspective of surrogate optimization, using what is known as the __Expectation Maximization (EM)__ algorithm."
   ]
  },
  {
   "cell_type": "markdown",
   "metadata": {},
   "source": [
    "### Exercise 3.1: Full Distribution of GMM (6 points)\n",
    "\n",
    "We know that for _generative modeling_, the dataset is assumed to be generated from some probabilistic distribution, and the goal of GMM is to estimate the underlying distribution of the dataset. Here the assumption is implicitly that the data is generated by a probability distribution smooth enough, such that we can estimate its probability density function (pdf). Hence the terminology for this task is known as __density estimation__. A straightforward application of density estimation is the task of __clustering__, e.g., determining the possible __modes__ of the probability density function (each cluster center can be seen as the mode of a pdf). Therefore, from this perspective, we can make the following observations about K-Means and GMM:\n",
    "\n",
    "- K-Means is an algorithm that targets the task of clustering specifically, while GMM is more powerful in that it deals with density estimation, and by this virtue it can also be used for clustering.\n",
    "- In the context of clustering, GMM assigns data points _softly_, that is, with some probability, to a cluster, whereas K-means provides _hard assignments_ of elements to clusters.\n",
    "\n",
    "Suppose that the dataset contains $n$ elements $\\{x_1, \\cdots, x_N\\}$ and we assume $k$ cluster centers (or distribution modes). Now we take a look at the generative modeling story that GMM is telling: as a latent variable model, each observed data point $\\mathbf{x}_i$ is associated with two random variables $Z_i, X_i$, such that $P_{X_i,Z_i} = P_{Z_i}P_{X_i\\mid Z_i}$ where:\n",
    "\n",
    "\n",
    "- $Z_i \\sim Cat(\\pi_1, \\cdots, \\pi_k)$, where $k$ represents $k$ pdf modes (clusters) and $\\sum_{j=1}^k \\pi_j = 1$; this random variable is quantifies the event \\{$\\mathbf{x}_i$ belongs to cluster $j$\\}, and $P(Z_j = i) = \\pi_i$.\n",
    "\n",
    "Now comes the trickier bit, where we specify a __conditional distribution__ $X_i\\mid Z_i=j$. This means __after observing that $\\mathbf{x}_i$ is in cluster $j$, what is the distribution of $x_i$?__. The GMM assumes this follows a Gaussian with mean and variance determined by the clsuter $j$:\n",
    "\n",
    "- $X_i\\mid Z_i = j \\sim \\mathcal{N}(\\mu_j, \\Sigma_j)$, where the index $j \\in \\{1,\\cdots, N\\}$ and index $j\\in\\{1,\\cdots, k\\}$. We can see that each random variable $X_i\\mid Z_i=j$ is distributed as a Gaussian, whose parameters are determined by the cluster it belongs to.\n",
    "\n",
    "The plate diagram for this _Probabilistic Graphical Model_ is given below, where the empty circle represents the latent variable (since we cannot observe the clusters a priori).\n",
    "\n",
    "![](bishop-gaussian-mixture.png)\n",
    "\n",
    "This plate diagram tells us that there are in total $2N$ random variables, two for each observed data point. It also allows us to write down the joint density function, where again we have the i.i.d assumption of each random variable pair $(X_i,Z_i)$ and we denote the full joint distribution as $P_{XZ}$ (and the full joint pdf as $f_{XZ}$) and the individual joint distribution to be $P_{X_iZ_i}$(and the individual joint pdf to be $f_{X_iZ_i}$):\n",
    "\n",
    "$$\n",
    "f_{X_iZ_i}(\\mathbf{\\mathbf{x}_i}, k) = P(Z_i = k) f_{X}(\\mathbf{x_i} \\mid \\mu_k, \\Sigma_k) = \\pi_k \\mathcal{N}(\\mathbf{x}; \\mu_k, \\Sigma_k)\n",
    "$$\n",
    "\n",
    "\n",
    "__Please strictly follow the notation used in this notebook, as your true understanding of the model should not change with a change of notation__!"
   ]
  },
  {
   "cell_type": "markdown",
   "metadata": {},
   "source": [
    "#### Exercise 3.1.1 (3 points)\n",
    "\n",
    "Write down the full derivation of the joint density function $f_{XZ}$ from the formula above.\n",
    "\n",
    "(Hint: Write down the correct pdf for each random variable, then use the assumption of i.i.d to factorize it. Note that $\\mathbf{x}_i \\in \\mathbb{R}^d$.)"
   ]
  },
  {
   "cell_type": "markdown",
   "metadata": {},
   "source": [
    "**[TODO: Write your answer here]**\n",
    "\n",
    "To obtain the joint density function 𝑓𝑋𝑍, we need to multiply the individual joint PDFs together for all pairs $(𝑋_𝑖, 𝑍_𝑖)$.\n",
    "$$𝑓_{𝑋𝑍} = 𝑓𝑋_₁𝑍_₁ ⋅ 𝑓𝑋_₂𝑍_₂ ⋅ ... ⋅ 𝑓𝑋_𝑁𝑍_𝑁.$$\n",
    "Substituting the expression for $𝑓𝑋_𝑖𝑍_𝑖$, have:\n",
    "$$𝑓_{𝑋𝑍} = (𝑃(𝑍_1=𝑘)𝑓𝑋_1(𝐱_1∣𝜇_𝑘,Σ𝑘)) ⋅ (𝑃(𝑍_2=𝑘)𝑓𝑋_2(𝐱_2∣𝜇_𝑘,Σ𝑘)) ⋅ ... ⋅ (𝑃(𝑍_𝑁=𝑘)𝑓𝑋𝑁(𝐱_𝑁∣𝜇_𝑘,Σ𝑘)).$$\n",
    "Since each pair $(𝑋_𝑖, 𝑍_𝑖)$ is assumed to be independent, we can rewrite the joint density function as a product of the marginal densities for 𝑍𝑖 and the conditional densities for $𝑋_𝑖$ given $𝑍_𝑖=𝑘$:\n",
    "\n",
    "$$𝑓_{𝑋𝑍} = (𝑃(𝑍_1=𝑘) ⋅ 𝑃(𝑍_2=𝑘) ⋅ ... ⋅ 𝑃(𝑍_N=𝑘)) ⋅ (𝑓𝑋_1(𝐱_1∣𝜇_𝑘,Σ𝑘) ⋅ 𝑓𝑋_2(𝐱_2∣𝜇_𝑘,Σ𝑘) ⋅ ... ⋅ 𝑓𝑋_N(𝐱_𝑁∣𝜇_𝑘,Σ𝑘)).$$\n",
    "\n",
    "Noting that the terms in parentheses can be simplified as:\n",
    "$(𝑃(𝑍_1=𝑘) ⋅ 𝑃(𝑍_2=𝑘) ⋅ ... ⋅ 𝑃(𝑍𝑁=𝑘)) = 𝜋_𝑘^𝑁,$\n",
    "\n",
    "rewrite the joint density function as:\n",
    "\n",
    "$$𝑓_{𝑋𝑍} = 𝜋_𝑘^𝑁 ⋅ (𝑓𝑋_1(𝐱_1∣𝜇_𝑘,Σ𝑘) ⋅ 𝑓𝑋_2(𝐱_2∣𝜇_𝑘,Σ𝑘) ⋅ ... ⋅ 𝑓_{𝑋𝑁}(𝐱_𝑁∣𝜇_𝑘,Σ𝑘)).$$\n",
    "\n",
    "the full derivation of the joint density function $𝑓_{𝑋𝑍}$\n",
    "$$𝑓_{𝑋𝑍} = 𝜋_1 \\mathcal{N}(𝐱; 𝜇_1,Σ_1) ⋅ 𝜋_2 \\mathcal{N}(𝐱; 𝜇_2,Σ_2) ⋅ ... ⋅ 𝜋_𝑁 \\mathcal{N}(𝐱; 𝜇_𝑁,Σ_𝑁).$$"
   ]
  },
  {
   "cell_type": "markdown",
   "metadata": {},
   "source": [
    "#### Exercise 3.1.2 (3 points)\n",
    "\n",
    "Write down the formula for the marginal joint pdf of $f_X$ using the result from Exercise 3.1.1, where $X$ is the collection of random variables $X_1,\\cdots, X_N$."
   ]
  },
  {
   "cell_type": "markdown",
   "metadata": {},
   "source": [
    "\n",
    "**[TODO: Write your answer here]**\n",
    "\n",
    "To obtain the marginal joint density function $𝑓_𝑋$ of the random variables $𝑋_1, 𝑋_2, ..., 𝑋_𝑁$, we integrate out the random variables $𝑍_1, 𝑍_2, ..., 𝑍_𝑁$ from the joint density $𝑓_{𝑋𝑍}$.\n",
    "\n",
    "the marginal joint density function $𝑓_𝑋$ is obtained by integrating the joint density $𝑓_{𝑋𝑍}$ over all possible values of $𝑍_1, 𝑍_2, ..., 𝑍_𝑁$ :\n",
    "\n",
    "$$𝑓_𝑋(𝐱_1, 𝐱_2, ..., 𝐱_𝑁) = \\int \\int ...\\int  𝑓_{𝑋𝑍} d_{𝑍_1} d_{𝑍_2} ... d_{𝑍_𝑁}.$$\n"
   ]
  },
  {
   "cell_type": "markdown",
   "metadata": {},
   "source": [
    "### Exercise 3.2: MLE and EM algorithm for GMM (9 points + 10 bonus points)"
   ]
  },
  {
   "cell_type": "markdown",
   "metadata": {},
   "source": [
    "#### Exercise 3.2.1 (5 points)\n",
    "\n",
    "After obtaining the joint PDF, we now can derive the negative log-likelihood function of the joint pdf. write down the formula for the negative log-likelihood for random variable $X = (X_1,.\\cdots, X_N)$. Then answer the following: why is doing a vanilla MLE for GMM difficult?\n",
    "\n",
    "(Hint: It is okay to Google this, but you need to write down the analytical form of the negative log-likelihood and then say something about it.\n",
    "You may want to read Section 9.2.1 from Christopher Bishop's [_Pattern Recognition and Machine Leanrning_](https://www.microsoft.com/en-us/research/uploads/prod/2006/01/Bishop-Pattern-Recognition-and-Machine-Learning-2006.pdf).)"
   ]
  },
  {
   "cell_type": "markdown",
   "metadata": {},
   "source": [
    "**[TODO: Write your answer here]**\n",
    "The negative log-likelihood function, denoted as $𝐿(𝜃)$, where $𝜃$ represents the parameters of the GMM, is given by:\n",
    "$$𝐿(𝜃) = -∑_i log(𝑓_{𝑋(𝐱ᵢ)})$$\n",
    "where $𝐱_i$ represents the observed data points.\n",
    "\n",
    "For a GMM, the joint PDF $𝑓_𝑋(𝐱_1, 𝐱_2, ..., 𝐱_𝑁)$ is the product of the mixture coefficients and the individual Gaussian PDFs:\n",
    "\n",
    "$$𝑓_𝑋(𝐱_1, 𝐱_2, ..., 𝐱_𝑁) = \\prod_i 𝜋_1\\mathcal{N}(𝐱_i; 𝜇_1, Σ_1) ⋅ 𝜋_2\\mathcal{N}(𝐱_i; 𝜇_2, Σ_2) ⋅ ... ⋅ 𝜋_𝑁\\mathcal{N}(𝐱_i; 𝜇_𝑁, Σ_𝑁).$$\n",
    "\n",
    "Substituting this expression into the negative log-likelihood function, we have:\n",
    "\n",
    "$$𝐿(𝜃) = -∑_i log(\\prod_i 𝜋_1 \\mathcal{N} (𝐱_i; 𝜇_1, Σ_1) ⋅ 𝜋_2 \\mathcal{N}(𝐱_i; 𝜇_2, Σ_2) ⋅ ... ⋅ 𝜋_𝑁 \\mathcal{N}(𝐱_i; 𝜇_𝑁, Σ_𝑁)).$$\n",
    "\n",
    "Using the logarithmic identity $log(𝑎 ⋅ 𝑏) = log(𝑎) + log(𝑏)$, we can rewrite the negative log-likelihood function as:\n",
    "\n",
    "$$𝐿(𝜃) = -∑_i(∑_k log(𝜋_k\\mathcal{N} (𝐱_i; 𝜇_k, Σ_k))).$$\n"
   ]
  },
  {
   "cell_type": "markdown",
   "metadata": {},
   "source": [
    "#### Exercise 3.2.2 (4 points)\n",
    "\n",
    "Write down the EM algorithm for GMM (i.e. write down the 4 steps)."
   ]
  },
  {
   "cell_type": "markdown",
   "metadata": {},
   "source": [
    "**[TODO: Write your answer here]**\n",
    "\n",
    "1.Initialize the parameters of the GMM, including the number of components ($K$), the means ($\\mu$), the covariance matrices ($Σ$), and the mixing coefficients ($\\pi$).\n",
    "You can randomly initialize the parameters or use a different initialization method like K-means clustering.\n",
    "E-step (Expectation step):\n",
    "\n",
    "2.Calculate the posterior probabilities or responsibilities ($\\gamma$) for each data point and each component of the GMM.\n",
    "The posterior probability $\\gamma(i, k)$ represents the probability that the data point i belongs to the kth component.\n",
    "M-step (Maximization step):\n",
    "\n",
    "3.Update the parameters of the GMM based on the calculated posterior probabilities.\n",
    "Update the means ($\\mu$), covariance matrices ($Σ$), and mixing coefficients ($\\pi$) using the data and the calculated responsibilities ($\\gamma$).\n",
    "\n",
    "4.Repeat steps 2 and 3 until convergence.\n",
    "Convergence can be determined based on a specified number of iterations or when the change in the log-likelihood of the data becomes negligible.\n"
   ]
  },
  {
   "cell_type": "markdown",
   "metadata": {},
   "source": [
    "#### Exercise 3.2.3 (10 bonus points)\n",
    "Prove that the EM algorithm guarantees monotonic increase in the log-likelihood using the following theorem (or any version of it, by providing your source citation).\n",
    "\n",
    "__Theorem (Jensen's Inequality)__: If $f:\\mathbb{R}\\rightarrow \\mathbb{R}$ is a concave function, then for any $x_1,\\cdots, x_k$, and any $\\lambda_1,\\cdots, \\lambda_k \\geq 0$, and $\\sum_{i=1}^k \\lambda_k = 1$, the following inequality holds:\n",
    "$$\n",
    "\\sum_{j=1}^m \\lambda_j f(a_j) \\leq f\\left( \\sum_{j=1}^m \\lambda_j a_j \\right)\n",
    "$$\n",
    "\n",
    "__Hints__:\n",
    "- Is the logarithm function a concave function?\n",
    "- You may want to checkout the general case of EM algorithm monotonicity [here](https://www.cs.cmu.edu/~epxing/Class/10708-17/notes-17/10708-scribe-lecture8.pdf). Think about the special case of GMM."
   ]
  },
  {
   "cell_type": "markdown",
   "metadata": {},
   "source": [
    "**[TODO: Write your answer here]**\n",
    "\n",
    "In the EM algorithm, the E-step calculates the posterior probabilities or responsibilities ($\\gamma$) for each data point and each component of the GMM. The M-step updates the parameters of the GMM based on these responsibilities. The objective is to maximize the log-likelihood function, which is a concave function.\n",
    "\n",
    "During the E-step, we calculate the expected complete data log-likelihood function, which is the sum of the log-likelihoods of each data point weighted by its responsibility. Using Jensen's Inequality, we can show that the expected complete data log-likelihood is always less than or equal to the complete data log-likelihood:\n",
    "\n",
    "$$∑_{j=1}^𝑚 𝜆_𝑗 log 𝑓(𝑎_𝑗) ≤ log(∑_{𝑗=1}^𝑚 𝜆_𝑗𝑓(𝑎_𝑗))$$\n",
    "\n",
    "Since the log-likelihood function is maximized, the $log(∑𝑗=1𝑚 𝜆𝑗𝑓(𝑎𝑗))$ will be greater than or equal to the log-likelihood at the previous iteration. Therefore, the EM algorithm guarantees a monotonic increase in the log-likelihood function with each iteration.\n"
   ]
  },
  {
   "cell_type": "markdown",
   "metadata": {},
   "source": [
    "### Exercise 3.3: EM vs. GD on Convergence (55 points)\n",
    "\n",
    "In this numerical experiment, we study and compare two cases:\n",
    "1. GMM trained using MLE, with gradient descent;\n",
    "2. GMM trained using EM algorithm.\n",
    "\n",
    "We compare these two scenarios' convergence behavior and their overall optimization performance. In particular, we:\n",
    "1. Provide randomzied initial values for the model parameters;\n",
    "2. (Exercise 3.3.1) Ask you to implement the objective / loss function, the negative-log-likelihood;\n",
    "3. (Exercise 3.3.2) Ask you to call optimization algorithm from sklearn to minimize this objective;\n",
    "4. (Exercise 3.3.3) Implement EM algorithm to optimize the objective;\n",
    "5. (Exercise 3.3.4) Observe the convergence behavior in Exercises 3.1.2 and 3.1.3."
   ]
  },
  {
   "cell_type": "markdown",
   "metadata": {},
   "source": [
    "#### Exercise 3.3.1: GMM with MLE (10 points)\n",
    "\n",
    "In this case, we generate some random data, then ask you to implement the objective function (__log-likelihood__). In this case we use the positive, since EM algorithm is maximizing the log-likelihood, rather than minimizing the negative log-likelihood."
   ]
  },
  {
   "cell_type": "code",
   "execution_count": 177,
   "metadata": {},
   "outputs": [],
   "source": [
    "# Data generation\n",
    "np.random.seed(1234)\n",
    "def generate_MoG_data(num_data, means, covariances, weights):\n",
    "    \"\"\" Creates a list of data points \"\"\"\n",
    "    num_clusters = len(weights)\n",
    "    data = []\n",
    "    for i in range(num_data):\n",
    "        #  Use np.random.choice and weights to pick a cluster id greater than or equal to 0 and less than num_clusters\n",
    "        k = np.random.choice(len(weights), 1, p=weights)[0]\n",
    "\n",
    "        # Use np.random.multivariate_normal to create data from this cluster\n",
    "        x = np.random.multivariate_normal(means[k], covariances[k])\n",
    "\n",
    "        data.append(x)\n",
    "    return data\n",
    "\n",
    "# Model parameters\n",
    "init_means = [\n",
    "    [5, 0], # mean of cluster 1\n",
    "    [1, 1], # mean of cluster 2\n",
    "    [0, 5]  # mean of cluster 3\n",
    "]\n",
    "init_covariances = [\n",
    "    [[.5, 0.], [0, .5]], # covariance of cluster 1\n",
    "    [[.92, .38], [.38, .91]], # covariance of cluster 2\n",
    "    [[.5, 0.], [0, .5]]  # covariance of cluster 3\n",
    "]\n",
    "init_weights = [1/4., 1/2., 1/4.]  # weights of each cluster\n",
    "\n",
    "# Generate data\n",
    "np.random.seed(4)\n",
    "data = generate_MoG_data(100, init_means, init_covariances, init_weights)\n",
    "data = np.vstack(data)"
   ]
  },
  {
   "cell_type": "code",
   "execution_count": 178,
   "metadata": {},
   "outputs": [
    {
     "data": {
      "image/png": "[encoded data removed]",
      "text/plain": [
       "<Figure size 432x288 with 1 Axes>"
      ]
     },
     "metadata": {
      "needs_background": "light"
     },
     "output_type": "display_data"
    }
   ],
   "source": [
    "# Visualize data\n",
    "plt.plot(data[:,0], data[:,1], 'ko')\n",
    "plt.rcParams.update({'font.size': 16})\n",
    "plt.tight_layout()"
   ]
  },
  {
   "cell_type": "code",
   "execution_count": 190,
   "metadata": {},
   "outputs": [],
   "source": [
    "# Initial setup for parameters: `pi`, `mu`, `Sigma` for GMM\n",
    "class Theta(object):\n",
    "    pi = np.empty((0,3))\n",
    "    mu = np.empty((0,3,2))\n",
    "    Sigma = np.empty((0,3,2,2))\n",
    "\n",
    "    def __init__(self, pi, mu, Sigma):\n",
    "        self.pi = pi\n",
    "        self.mu = mu\n",
    "        self.Sigma = Sigma\n",
    "\n",
    "theta_old = Theta(\n",
    "    pi=np.array([0.4, 0.3, 0.3]),\n",
    "    mu=np.array([\n",
    "        [0.0, 0.0],\n",
    "        [3.0, 1.0],\n",
    "        [4.0, 3.0]\n",
    "    ]),\n",
    "    Sigma=np.array([\n",
    "        [[1.0, 0.5],[0.5, 1.0]],\n",
    "        [[1.0, 0.5],[0.5, 1.0]],\n",
    "        [[1.0, 0.5],[0.5, 1.0]]\n",
    "    ])\n",
    ")"
   ]
  },
  {
   "cell_type": "code",
   "execution_count": 191,
   "metadata": {},
   "outputs": [
    {
     "name": "stdout",
     "output_type": "stream",
     "text": [
      "Negative Log-Likelihood: 879.0840821295901\n"
     ]
    }
   ],
   "source": [
    "# TODO: implement the objective function, negative log-likelihood, given theta and data x\n",
    "def GMM_objective(theta, x=data):\n",
    "    \"\"\"\n",
    "    `theta`: theta class above\n",
    "    `x`: input data of shape (n,d)\n",
    "    Return the negative log-likelihood of GMM\n",
    "    \"\"\"\n",
    "    # Extract the parameters from theta\n",
    "    num_components = theta.pi.shape[0]\n",
    "    means = theta.mu\n",
    "    covariances = theta.Sigma\n",
    "\n",
    "    log_likelihoods = np.zeros(len(x))\n",
    "    for i in range(len(x)):\n",
    "        likelihoods = np.zeros(num_components)\n",
    "        for j in range(num_components):\n",
    "           likelihoods[j] = theta.pi[j] * multivariate_normal.pdf(x[i], mean=means[j], cov=covariances[j])\n",
    "        log_likelihoods[i] = np.log(np.sum(likelihoods))\n",
    "    \n",
    "    \n",
    "    # Calculate the negative log-likelihood\n",
    "    negative_log_likelihood = -np.sum(log_likelihoods)\n",
    "    return negative_log_likelihood\n",
    "\n",
    "\n",
    "#  testing\n",
    "nll = GMM_objective(theta_old, data)\n",
    "print(\"Negative Log-Likelihood:\", nll)\n"
   ]
  },
  {
   "cell_type": "markdown",
   "metadata": {},
   "source": [
    "#### Exercise 3.3.2: Optimize the Objective Directly (15 points)\n",
    "\n",
    "In this case we ask you to implement a simple __gradient ascent__ algorithm to maximize the log-likelihood function implemented in Exercise 3.3.1.\n",
    "To do that, you need to implement the gradient of the objective, then update using the standard gradient ascent (not descent, since we are maximizing the objective)."
   ]
  },
  {
   "cell_type": "code",
   "execution_count": 192,
   "metadata": {},
   "outputs": [],
   "source": [
    "def GMM_objective_grad(theta, x=data):\n",
    "    # TODO: calculate and return the gradient of GMM objective w.r.t `pi`, `mu`, `Sigma`\n",
    "    # Calculate the gradient for each parameter\n",
    "    num_components = theta.pi.shape[0]\n",
    "    means = theta.mu\n",
    "    covariances = theta.Sigma\n",
    "\n",
    "    n, d = x.shape\n",
    "    gradient_pi = np.zeros(num_components)\n",
    "    gradient_mu = np.zeros((num_components, d))\n",
    "    gradient_sigma = np.zeros((num_components, d, d))\n",
    "\n",
    "    log_likelihoods = np.zeros(n)\n",
    "    for i in range(n):\n",
    "        likelihoods = np.zeros(num_components)\n",
    "        for j in range(num_components):\n",
    "            likelihoods[j] = theta.pi[j] * multivariate_normal.pdf(x[i], mean=means[j], cov=covariances[j])\n",
    "        log_likelihoods[i] = np.log(np.sum(likelihoods))\n",
    "\n",
    "        # Calculate the responsibilities\n",
    "        responsibilities = likelihoods / np.sum(likelihoods)\n",
    "\n",
    "        # Compute the gradients for each parameter\n",
    "        gradient_pi += responsibilities\n",
    "        for j in range(num_components):\n",
    "            gradient_mu[j] += responsibilities[j] * (x[i] - means[j])\n",
    "            diff = x[i] - means[j]\n",
    "            gradient_sigma[j] += responsibilities[j] * np.outer(diff, diff)\n",
    "\n",
    "    gradient_pi /= n\n",
    "    gradient_mu /= n\n",
    "    gradient_sigma /= n\n",
    "\n",
    "    # Return the gradients\n",
    "    return gradient_pi, gradient_mu, gradient_sigma\n"
   ]
  },
  {
   "cell_type": "code",
   "execution_count": 193,
   "metadata": {},
   "outputs": [
    {
     "name": "stdout",
     "output_type": "stream",
     "text": [
      "Updated Parameters:\n",
      "pi: [172.12858695 168.27311969 160.59829335]\n",
      "mu: [[1.45746021 1.92820645]\n",
      " [1.45778033 1.92796766]\n",
      " [1.45753376 1.92809684]]\n",
      "Sigma: [[[ 564.1231568  -319.35989552]\n",
      "  [-319.35989552  811.49678463]]\n",
      "\n",
      " [[ 574.79486016 -314.33847948]\n",
      "  [-314.33847948  765.82501818]]\n",
      "\n",
      " [[ 543.56630247 -301.95687625]\n",
      "  [-301.95687625  740.38987168]]]\n",
      "Objective History: [879.0840821295901, 352.24515915646947, 303.03664632987767, 278.3907678351467, 262.81037952857776, 252.04299205354152, 244.16809938384299, 238.13620955207534, 233.312854395684, 229.30028158881984, 225.87318339302257, 222.9336423549687, 220.4379173519319, 218.3348270810356, 216.55802536330097, 215.0445793850326, 213.74492653694233, 212.6216273102745, 211.64531571636616, 210.7919282480506, 210.04140204154513, 209.37707662160042, 208.78527406428617, 208.25487273337725, 207.7768657270701, 207.3439432785025, 206.9501309839929, 206.59049622718751, 206.26092019135706, 205.9579253314236, 205.67854621388508, 205.42023266738957, 205.18077635317042, 204.95825412480133, 204.75098345529273, 204.5574866557738, 204.37646163649296, 204.2067576600924, 204.047355002181, 203.89734774068486, 203.7559290982695, 203.62237889862456, 203.4960527918725, 203.37637297203764, 203.26282015983605, 203.15492666277945, 203.05227035527162, 202.9544694462291, 202.86117792221106, 202.77208157105366, 202.68689450525034, 202.60535611630795, 202.52722840142275, 202.45229361237384, 202.38035218377266, 202.3112209039487, 202.24473129696307, 202.18072818867128, 202.1190684335247, 202.05961978201168, 202.00225987137728, 201.94687532460043, 201.89336094461106, 201.84161899244148, 201.79155853948237, 201.74309488527655, 201.69614903337379, 201.65064721871192, 201.60652048079683, 201.56370427766183, 201.522138136191, 201.48176533492338, 201.44253261591228, 201.40438992261625, 201.36729016114603, 201.33118898249867, 201.29604458367638, 201.26181752582278, 201.22847056771323, 201.19596851312065, 201.16427807073194, 201.13336772543673, 201.10320761993046, 201.07376944568267, 201.04502634242536, 201.0169528053926, 200.98952459962814, 200.96271868074135, 200.93651312155257, 200.91088704412627, 200.88582055673382, 200.86129469533697, 200.8372913692154, 200.81379331040262, 200.79078402661966, 200.7682477574304, 200.7461694333605, 200.7245346377509, 200.70332957113308, 200.68254101793403, 200.66215631533387, 200.64216332411502, 200.6225504013571, 200.60330637483833, 200.58442051902452, 200.56588253252764, 200.54768251693125, 200.52981095688727, 200.5122587013929, 200.49501694616995, 200.47807721706786, 200.4614313544235, 200.44507149831205, 200.4289900746316, 200.4131797819651, 200.39763357916962, 200.38234467364654, 200.3673065102488, 200.35251276078398, 200.33795731407832, 200.32363426656383, 200.30953791335844, 200.2956627398086, 200.28200341346547, 200.2685547764705, 200.255311838324, 200.24226976901565, 200.22942389249613, 200.2167696804676, 200.20430274647845, 200.19201884030176, 200.1799138425835, 200.1679837597444, 200.1562247191217, 200.14463296433786, 200.1332048508834, 200.12193684190225, 200.11082550416944, 200.09986750425003, 200.08905960483048, 200.07839866121233, 200.06788161796143, 200.05750550570295, 200.04726743805557, 200.03716460869836, 200.02719428856196, 200.01735382313984, 200.007640629912, 199.99805219587677, 199.9885860751845, 199.9792398868692, 199.9700113126723, 199.96089809495473, 199.95189803469367, 199.94300898955817, 199.9342288720628, 199.92555564779195, 199.91698733369603, 199.90852199645147, 199.90015775088582, 199.89189275846218, 199.88372522582168, 199.875653403381, 199.8676755839825, 199.8597901015947, 199.85199533006076, 199.84428968189331, 199.836671607113, 199.82913959212948, 199.8216921586626, 199.81432786270227, 199.8070452935054, 199.79984307262868, 199.79271985299437, 199.78567431799007, 199.7787051805987, 199.77181118255893, 199.76499109355458, 199.75824371043106, 199.75156785643907, 199.74496238050307, 199.7384261565151, 199.73195808265092, 199.72555708071008, 199.71922209547645, 199.7129520941007, 199.7067460655021, 199.70060301979007, 199.69452198770404, 199.68850202007147, 199.6825421872827, 199.6766415787832, 199.67079930258018, 199.6650144847667, 199.6592862690585, 199.6536138163469, 199.64799630426407, 199.6424329267623, 199.6369228937058, 199.63146543047515, 199.62605977758312, 199.62070519030235, 199.61540093830402, 199.61014630530693, 199.60494058873758, 199.5997830993994, 199.594673161152, 199.58961011059998, 199.58459329678988, 199.57962208091715, 199.57469583603947, 199.5698139468006, 199.5649758091602, 199.56018083013183, 199.55542842752848, 199.55071802971514, 199.54604907536782, 199.5414210132394, 199.53683330193218, 199.53228540967643, 199.5277768141148, 199.5233070020927, 199.51887546945437, 199.51448172084432, 199.5101252695139, 199.50580563713353, 199.50152235360918, 199.49727495690414, 199.4930629928653, 199.4888860150541, 199.48474358458145, 199.4806352699475, 199.47656064688465, 199.47251929820604, 199.46851081365588, 199.46453478976568, 199.4605908297122, 199.45667854318043, 199.45279754622916, 199.44894746116026, 199.4451279163909, 199.4413385463293, 199.43757899125313, 199.43384889719124, 199.43014791580802, 199.4264757042906, 199.42283192523902, 199.41921624655848, 199.41562834135476, 199.4120678878322, 199.40853456919282, 199.40502807354002, 199.40154809378237, 199.39809432754106, 199.3946664770591, 199.39126424911223, 199.38788735492247, 199.3845355100736, 199.38120843442803, 199.37790585204638, 199.3746274911081, 199.3713730838344, 199.36814236641297, 199.36493507892385, 199.36175096526765, 199.35858977309474, 199.35545125373662, 199.35233516213816, 199.34924125679214, 199.34616929967424, 199.34311905618029, 199.34009029506447, 199.33708278837935, 199.33409631141606, 199.33113064264722, 199.3281855636701, 199.3252608591515, 199.32235631677324, 199.3194717271795, 199.316606883925, 199.3137615834238, 199.31093562490028, 199.3081288103398, 199.3053409444412, 199.30257183457078, 199.29982129071547, 199.29708912543913, 199.29437515383816, 199.29167919349865, 199.2890010644544, 199.28634058914565, 199.28369759237899, 199.28107190128702, 199.27846334529087, 199.2758717560608, 199.27329696748018, 199.2707388156081, 199.2681971386445, 199.2656717768941, 199.26316257273308, 199.2606693705745, 199.25819201683598, 199.2557303599069, 199.25328425011674, 199.25085353970405, 199.2484380827858, 199.24603773532772, 199.24365235511425, 199.2412818017205, 199.23892593648367, 199.23658462247542, 199.23425772447408, 199.23194510893904, 199.22964664398376, 199.22736219935038, 199.2250916463842, 199.22283485800946, 199.22059170870483, 199.21836207447927, 199.216145832849, 199.2139428628146, 199.21175304483793, 199.20957626082065, 199.20741239408235, 199.2052613293386, 199.20312295268093, 199.20099715155558, 199.1988838147436, 199.196782832341, 199.19469409573898, 199.19261749760543, 199.19055293186548, 199.1885002936832, 199.18645947944398, 199.18443038673576, 199.18241291433245, 199.18040696217616, 199.17841243136064, 199.1764292241143, 199.17445724378427, 199.17249639482026, 199.1705465827587, 199.16860771420727, 199.1666796968297, 199.16476243933104, 199.1628558514424, 199.16095984390716, 199.1590743284663, 199.15719921784452, 199.15533442573658, 199.1534798667939, 199.15163545661093, 199.14980111171258, 199.14797674954085, 199.1461622884425, 199.14435764765668, 199.1425627473026, 199.14077750836765, 199.13900185269526, 199.13723570297364, 199.13547898272435, 199.13373161629056, 199.13199352882657, 199.13026464628672, 199.1285448954146, 199.1268342037325, 199.12513249953125, 199.1234397118598, 199.12175577051522, 199.1200806060329, 199.11841414967688, 199.1167563334301, 199.11510708998503, 199.1134663527345, 199.11183405576259, 199.1102101338355, 199.10859452239276, 199.10698715753864, 199.10538797603354, 199.10379691528533, 199.10221391334142, 199.10063890888026, 199.09907184120348, 199.09751265022803, 199.09596127647805, 199.09441766107756, 199.09288174574255, 199.09135347277368, 199.0898327850491, 199.08831962601707, 199.0868139396887, 199.08531567063122, 199.0838247639606, 199.08234116533535, 199.08086482094956, 199.07939567752612, 199.07793368231017, 199.07647878306327, 199.0750309280564, 199.07359006606418, 199.07215614635817, 199.07072911870188, 199.06930893334356, 199.0678955410112, 199.06648889290653, 199.06508894069913, 199.06369563652095, 199.06230893296075, 199.06092878305907, 199.05955514030182, 199.058187958616, 199.0568271923641, 199.05547279633848, 199.05412472575745, 199.05278293625898, 199.0514473838965, 199.05011802513408, 199.0487948168414, 199.04747771628845, 199.04616668114235, 199.04486166946126, 199.04356263969075, 199.04226955065906, 199.0409823615722, 199.03970103201067, 199.03842552192404, 199.03715579162778, 199.03589180179821, 199.0346335134687, 199.03338088802576, 199.03213388720508, 199.03089247308714, 199.0296566080937, 199.02842625498383, 199.02720137685048, 199.02598193711606, 199.02476789952902, 199.02355922816068, 199.02235588740086, 199.0211578419552, 199.01996505684062, 199.01877749738293, 199.01759512921288, 199.01641791826282, 199.0152458307632, 199.01407883323998, 199.01291689251073, 199.01175997568157, 199.01060805014458, 199.00946108357368, 199.00831904392268, 199.0071818994214, 199.0060496185732, 199.00492217015162, 199.0037995231983, 199.00268164701865, 199.00156851118075, 199.00046008551104, 198.99935634009276, 198.9982572452623, 198.9971627716069, 198.99607288996265, 198.99498757141032, 198.9939067872743, 198.99283050911902, 198.99175870874723, 198.9906913581969, 198.98962842973873, 198.9885698958745, 198.9875157293336, 198.9864659030716, 198.9854203902674, 198.98437916432096, 198.98334219885095, 198.98230946769294, 198.9812809448967, 198.98025660472433, 198.97923642164764, 198.9782203703467, 198.977208425707, 198.97620056281758, 198.9751967569698, 198.97419698365368, 198.97320121855728, 198.97220943756392, 198.97122161675088, 198.9702377323868, 198.96925776092996, 198.96828167902663, 198.9673094635091, 198.9663410913936, 198.96537653987855, 198.96441578634273, 198.96345880834411, 198.9625055836171, 198.9615560900715, 198.96061030579025, 198.95966820902814, 198.9587297782103, 198.95779499193006]\n"
     ]
    }
   ],
   "source": [
    "def GMM_gradient_ascent(theta, n_iters=500, x=data):\n",
    "    \"\"\"\n",
    "    TODO:\n",
    "    Call the above two functions to maximize the objective.\n",
    "    Return the updated parameters and the historical record of objective.\n",
    "    \"\"\"\n",
    "    objective_history = []\n",
    "\n",
    "    for _ in range(n_iters):\n",
    "        objective = GMM_objective(theta, x)\n",
    "        objective_history.append(objective)\n",
    "\n",
    "        gradient_pi, gradient_mu, gradient_sigma = GMM_objective_grad(theta, x)\n",
    "\n",
    "        # Update the parameters using gradient ascent\n",
    "        theta.pi += gradient_pi\n",
    "        theta.mu += gradient_mu\n",
    "        theta.Sigma += gradient_sigma\n",
    "        \n",
    "\n",
    "    return theta, objective_history\n",
    "\n",
    "\n",
    "theta_updated, objective_history = GMM_gradient_ascent(theta_old, n_iters=500, x=data)\n",
    "print(\"Updated Parameters:\")\n",
    "print(\"pi:\", theta_updated.pi)\n",
    "print(\"mu:\", theta_updated.mu)\n",
    "print(\"Sigma:\", theta_updated.Sigma)\n",
    "print(\"Objective History:\", objective_history)\n"
   ]
  },
  {
   "cell_type": "markdown",
   "metadata": {},
   "source": [
    "#### Exercise 3.3.3: GMM with EM (20 points)\n",
    "\n",
    "The EM algorithm does not directly deal with the objective function, but instead work on a surrogate. This general line of approach of optimziation for probabilistic models is known as __variational inference__. Now implement the steps of EM algorithm for GMM. Then run the EM algorithm for 500 iterations to obtain the model parameters."
   ]
  },
  {
   "cell_type": "code",
   "execution_count": 194,
   "metadata": {},
   "outputs": [],
   "source": [
    "def E_step(theta, data):\n",
    "    \"\"\"\n",
    "    TODO: implement the E-step of the EM algorithm.\n",
    "    Return the updated `theta`.\n",
    "    \"\"\"\n",
    "    num_components = theta.pi.shape[0]\n",
    "    means = theta.mu\n",
    "    covariances = theta.Sigma\n",
    "\n",
    "    n, d = data.shape\n",
    "    responsibilities = np.zeros((n, num_components))\n",
    "\n",
    "    for i in range(n):\n",
    "        likelihoods = np.zeros(num_components)\n",
    "        for j in range(num_components):\n",
    "            likelihoods[j] = theta.pi[j] * multivariate_normal.pdf(data[i], mean=means[j], cov=covariances[j])\n",
    "        responsibilities[i] = likelihoods / np.sum(likelihoods)\n",
    "\n",
    "    # Update the responsibilities in `theta`\n",
    "    theta.pi = np.mean(responsibilities, axis=0)\n",
    "    theta.mu = np.dot(responsibilities.T, data) / np.sum(responsibilities[:, :, np.newaxis], axis=0)\n",
    "    for j in range(num_components):\n",
    "        diff = data - theta.mu[j]\n",
    "        theta.Sigma[j] = np.einsum('ij,ik->jk', diff, diff * responsibilities[:, j, np.newaxis]) / np.sum(responsibilities[:, j])\n",
    "\n",
    "    return theta"
   ]
  },
  {
   "cell_type": "code",
   "execution_count": 195,
   "metadata": {},
   "outputs": [],
   "source": [
    "\n",
    "def M_step(theta, data):\n",
    "    \"\"\"\n",
    "    TODO: implement the M-step of the EM algorithm.\n",
    "    Return the updated `theta`.\n",
    "    \"\"\"\n",
    "\n",
    "    n, d = data.shape\n",
    "    num_components = theta.pi.shape[0]\n",
    "    responsibilities = np.zeros((n, num_components))\n",
    "\n",
    "    # Calculate the responsibilities based on the current model parameters\n",
    "    for i in range(n):\n",
    "        likelihoods = np.zeros(num_components)\n",
    "        for j in range(num_components):\n",
    "            likelihoods[j] = theta.pi[j] * multivariate_normal.pdf(data[i], mean=theta.mu[j], cov=theta.Sigma[j])\n",
    "        responsibilities[i] = likelihoods / np.sum(likelihoods)\n",
    "\n",
    "    # Update the model parameters in `theta`\n",
    "    theta.pi = np.mean(responsibilities, axis=0)\n",
    "    theta.mu = np.dot(responsibilities.T, data) / np.sum(responsibilities[:, :, np.newaxis], axis=0)\n",
    "    for j in range(num_components):\n",
    "        diff = data - theta.mu[j]\n",
    "        theta.Sigma[j] = np.einsum('ij,ik->jk', diff, diff * responsibilities[:, j, np.newaxis]) / np.sum(responsibilities[:, j])\n",
    "\n",
    "    return theta\n",
    "\n"
   ]
  },
  {
   "cell_type": "code",
   "execution_count": 196,
   "metadata": {},
   "outputs": [
    {
     "name": "stdout",
     "output_type": "stream",
     "text": [
      "Updated Parameters:\n",
      "pi: [0.30070365 0.17993715 0.5193592 ]\n",
      "mu: [[0.0213607  4.94776653]\n",
      " [4.94239198 0.31365344]\n",
      " [1.08181039 0.7390666 ]]\n",
      "Sigma: [[[ 0.29324532  0.05052346]\n",
      "  [ 0.05052346  0.35275804]]\n",
      "\n",
      " [[ 0.35564413 -0.01494922]\n",
      "  [-0.01494922  0.66695052]]\n",
      "\n",
      " [[ 0.67114087  0.33058391]\n",
      "  [ 0.33058391  0.90436499]]]\n",
      "Objective History: [198.95686382894738, 408.3374444458874, 408.3374131147494, 408.33698977749225, 408.3312817184606, 408.25565615008173, 407.32225881858386, 398.2712650307274, 372.10306223198205, 366.84327780419255, 365.92679772681805, 365.15066038151855, 364.2905914184436, 363.59360129430263, 363.1610195148636, 362.84348453664836, 362.4646599092135, 361.74099427172143, 359.2938074899439, 345.42720336685113, 334.77264880695435, 332.3652785103112, 330.9870668557376, 330.05402553554734, 328.879892288072, 326.46480792405276, 321.9328787570448, 318.88550023596036, 318.83082399236434, 318.8308208542671, 318.8308208519539, 318.8308208519414, 318.83082085194127, 318.8308208519412, 318.83082085194127, 318.8308208519413, 318.83082085194127, 318.8308208519413, 318.8308208519413, 318.8308208519413, 318.8308208519413, 318.8308208519413, 318.8308208519413, 318.8308208519413, 318.8308208519413, 318.8308208519413, 318.8308208519413, 318.8308208519413, 318.8308208519413, 318.8308208519413, 318.8308208519413, 318.8308208519413, 318.8308208519413, 318.8308208519413, 318.8308208519413, 318.8308208519413, 318.8308208519413, 318.8308208519413, 318.8308208519413, 318.8308208519413, 318.8308208519413, 318.8308208519413, 318.8308208519413, 318.8308208519413, 318.8308208519413, 318.8308208519413, 318.8308208519413, 318.8308208519413, 318.8308208519413, 318.8308208519413, 318.8308208519413, 318.8308208519413, 318.8308208519413, 318.8308208519413, 318.8308208519413, 318.8308208519413, 318.8308208519413, 318.8308208519413, 318.8308208519413, 318.8308208519413, 318.8308208519413, 318.8308208519413, 318.8308208519413, 318.8308208519413, 318.8308208519413, 318.8308208519413, 318.8308208519413, 318.8308208519413, 318.8308208519413, 318.8308208519413, 318.8308208519413, 318.8308208519413, 318.8308208519413, 318.8308208519413, 318.8308208519413, 318.8308208519413, 318.8308208519413, 318.8308208519413, 318.8308208519413, 318.8308208519413, 318.8308208519413, 318.8308208519413, 318.8308208519413, 318.8308208519413, 318.8308208519413, 318.8308208519413, 318.8308208519413, 318.8308208519413, 318.8308208519413, 318.8308208519413, 318.8308208519413, 318.8308208519413, 318.8308208519413, 318.8308208519413, 318.8308208519413, 318.8308208519413, 318.8308208519413, 318.8308208519413, 318.8308208519413, 318.8308208519413, 318.8308208519413, 318.8308208519413, 318.8308208519413, 318.8308208519413, 318.8308208519413, 318.8308208519413, 318.8308208519413, 318.8308208519413, 318.8308208519413, 318.8308208519413, 318.8308208519413, 318.8308208519413, 318.8308208519413, 318.8308208519413, 318.8308208519413, 318.8308208519413, 318.8308208519413, 318.8308208519413, 318.8308208519413, 318.8308208519413, 318.8308208519413, 318.8308208519413, 318.8308208519413, 318.8308208519413, 318.8308208519413, 318.8308208519413, 318.8308208519413, 318.8308208519413, 318.8308208519413, 318.8308208519413, 318.8308208519413, 318.8308208519413, 318.8308208519413, 318.8308208519413, 318.8308208519413, 318.8308208519413, 318.8308208519413, 318.8308208519413, 318.8308208519413, 318.8308208519413, 318.8308208519413, 318.8308208519413, 318.8308208519413, 318.8308208519413, 318.8308208519413, 318.8308208519413, 318.8308208519413, 318.8308208519413, 318.8308208519413, 318.8308208519413, 318.8308208519413, 318.8308208519413, 318.8308208519413, 318.8308208519413, 318.8308208519413, 318.8308208519413, 318.8308208519413, 318.8308208519413, 318.8308208519413, 318.8308208519413, 318.8308208519413, 318.8308208519413, 318.8308208519413, 318.8308208519413, 318.8308208519413, 318.8308208519413, 318.8308208519413, 318.8308208519413, 318.8308208519413, 318.8308208519413, 318.8308208519413, 318.8308208519413, 318.8308208519413, 318.8308208519413, 318.8308208519413, 318.8308208519413, 318.8308208519413, 318.8308208519413, 318.8308208519413, 318.8308208519413, 318.8308208519413, 318.8308208519413, 318.8308208519413, 318.8308208519413, 318.8308208519413, 318.8308208519413, 318.8308208519413, 318.8308208519413, 318.8308208519413, 318.8308208519413, 318.8308208519413, 318.8308208519413, 318.8308208519413, 318.8308208519413, 318.8308208519413, 318.8308208519413, 318.8308208519413, 318.8308208519413, 318.8308208519413, 318.8308208519413, 318.8308208519413, 318.8308208519413, 318.8308208519413, 318.8308208519413, 318.8308208519413, 318.8308208519413, 318.8308208519413, 318.8308208519413, 318.8308208519413, 318.8308208519413, 318.8308208519413, 318.8308208519413, 318.8308208519413, 318.8308208519413, 318.8308208519413, 318.8308208519413, 318.8308208519413, 318.8308208519413, 318.8308208519413, 318.8308208519413, 318.8308208519413, 318.8308208519413, 318.8308208519413, 318.8308208519413, 318.8308208519413, 318.8308208519413, 318.8308208519413, 318.8308208519413, 318.8308208519413, 318.8308208519413, 318.8308208519413, 318.8308208519413, 318.8308208519413, 318.8308208519413, 318.8308208519413, 318.8308208519413, 318.8308208519413, 318.8308208519413, 318.8308208519413, 318.8308208519413, 318.8308208519413, 318.8308208519413, 318.8308208519413, 318.8308208519413, 318.8308208519413, 318.8308208519413, 318.8308208519413, 318.8308208519413, 318.8308208519413, 318.8308208519413, 318.8308208519413, 318.8308208519413, 318.8308208519413, 318.8308208519413, 318.8308208519413, 318.8308208519413, 318.8308208519413, 318.8308208519413, 318.8308208519413, 318.8308208519413, 318.8308208519413, 318.8308208519413, 318.8308208519413, 318.8308208519413, 318.8308208519413, 318.8308208519413, 318.8308208519413, 318.8308208519413, 318.8308208519413, 318.8308208519413, 318.8308208519413, 318.8308208519413, 318.8308208519413, 318.8308208519413, 318.8308208519413, 318.8308208519413, 318.8308208519413, 318.8308208519413, 318.8308208519413, 318.8308208519413, 318.8308208519413, 318.8308208519413, 318.8308208519413, 318.8308208519413, 318.8308208519413, 318.8308208519413, 318.8308208519413, 318.8308208519413, 318.8308208519413, 318.8308208519413, 318.8308208519413, 318.8308208519413, 318.8308208519413, 318.8308208519413, 318.8308208519413, 318.8308208519413, 318.8308208519413, 318.8308208519413, 318.8308208519413, 318.8308208519413, 318.8308208519413, 318.8308208519413, 318.8308208519413, 318.8308208519413, 318.8308208519413, 318.8308208519413, 318.8308208519413, 318.8308208519413, 318.8308208519413, 318.8308208519413, 318.8308208519413, 318.8308208519413, 318.8308208519413, 318.8308208519413, 318.8308208519413, 318.8308208519413, 318.8308208519413, 318.8308208519413, 318.8308208519413, 318.8308208519413, 318.8308208519413, 318.8308208519413, 318.8308208519413, 318.8308208519413, 318.8308208519413, 318.8308208519413, 318.8308208519413, 318.8308208519413, 318.8308208519413, 318.8308208519413, 318.8308208519413, 318.8308208519413, 318.8308208519413, 318.8308208519413, 318.8308208519413, 318.8308208519413, 318.8308208519413, 318.8308208519413, 318.8308208519413, 318.8308208519413, 318.8308208519413, 318.8308208519413, 318.8308208519413, 318.8308208519413, 318.8308208519413, 318.8308208519413, 318.8308208519413, 318.8308208519413, 318.8308208519413, 318.8308208519413, 318.8308208519413, 318.8308208519413, 318.8308208519413, 318.8308208519413, 318.8308208519413, 318.8308208519413, 318.8308208519413, 318.8308208519413, 318.8308208519413, 318.8308208519413, 318.8308208519413, 318.8308208519413, 318.8308208519413, 318.8308208519413, 318.8308208519413, 318.8308208519413, 318.8308208519413, 318.8308208519413, 318.8308208519413, 318.8308208519413, 318.8308208519413, 318.8308208519413, 318.8308208519413, 318.8308208519413, 318.8308208519413, 318.8308208519413, 318.8308208519413, 318.8308208519413, 318.8308208519413, 318.8308208519413, 318.8308208519413, 318.8308208519413, 318.8308208519413, 318.8308208519413, 318.8308208519413, 318.8308208519413, 318.8308208519413, 318.8308208519413, 318.8308208519413, 318.8308208519413, 318.8308208519413, 318.8308208519413, 318.8308208519413, 318.8308208519413, 318.8308208519413, 318.8308208519413, 318.8308208519413, 318.8308208519413, 318.8308208519413, 318.8308208519413, 318.8308208519413, 318.8308208519413, 318.8308208519413, 318.8308208519413, 318.8308208519413, 318.8308208519413, 318.8308208519413, 318.8308208519413, 318.8308208519413, 318.8308208519413, 318.8308208519413, 318.8308208519413, 318.8308208519413, 318.8308208519413, 318.8308208519413, 318.8308208519413, 318.8308208519413, 318.8308208519413, 318.8308208519413, 318.8308208519413, 318.8308208519413, 318.8308208519413, 318.8308208519413, 318.8308208519413, 318.8308208519413, 318.8308208519413, 318.8308208519413, 318.8308208519413, 318.8308208519413, 318.8308208519413, 318.8308208519413, 318.8308208519413, 318.8308208519413, 318.8308208519413, 318.8308208519413, 318.8308208519413, 318.8308208519413, 318.8308208519413, 318.8308208519413, 318.8308208519413, 318.8308208519413, 318.8308208519413, 318.8308208519413, 318.8308208519413, 318.8308208519413, 318.8308208519413, 318.8308208519413, 318.8308208519413, 318.8308208519413, 318.8308208519413, 318.8308208519413, 318.8308208519413, 318.8308208519413, 318.8308208519413, 318.8308208519413, 318.8308208519413, 318.8308208519413, 318.8308208519413, 318.8308208519413, 318.8308208519413, 318.8308208519413, 318.8308208519413, 318.8308208519413, 318.8308208519413, 318.8308208519413, 318.8308208519413, 318.8308208519413, 318.8308208519413, 318.8308208519413, 318.8308208519413, 318.8308208519413, 318.8308208519413, 318.8308208519413, 318.8308208519413, 318.8308208519413, 318.8308208519413, 318.8308208519413, 318.8308208519413, 318.8308208519413, 318.8308208519413]\n"
     ]
    }
   ],
   "source": [
    "def EM(theta, data, n_iter=500):\n",
    "    \"\"\"\n",
    "    TODO: implement the EM algorithm.\n",
    "    Be sure to call the above two functions `E_step` and `M_step`.\n",
    "    `theta` is the `Theta` class above; `data` is the `data` above.\n",
    "    Return the updated `theta` values and the historical record of objective.\n",
    "    \"\"\"\n",
    "    objective_history = []\n",
    "\n",
    "    for _ in range(n_iter):\n",
    "        objective = GMM_objective(theta, data)\n",
    "        objective_history.append(objective)\n",
    "\n",
    "        # E-step\n",
    "        theta = E_step(theta, data)\n",
    "\n",
    "        # M-step\n",
    "        theta = M_step(theta, data)\n",
    "\n",
    "    return theta, objective_history\n",
    "\n",
    "\n",
    "theta_updated, objective_history = EM(theta_old, data, n_iter=500)\n",
    "print(\"Updated Parameters:\")\n",
    "print(\"pi:\", theta_updated.pi)\n",
    "print(\"mu:\", theta_updated.mu)\n",
    "print(\"Sigma:\", theta_updated.Sigma)\n",
    "print(\"Objective History:\", objective_history)"
   ]
  },
  {
   "cell_type": "code",
   "execution_count": 197,
   "metadata": {},
   "outputs": [],
   "source": [
    "from scipy.stats import multivariate_normal\n",
    "\n",
    "def GMM_objective_grad(theta, x):\n",
    "    \"\"\"\n",
    "    Calculate and return the gradient of GMM objective w.r.t `pi`, `mu`, `Sigma`.\n",
    "    `theta`: Theta class with GMM parameters.\n",
    "    `x`: Input data of shape (n, d).\n",
    "    \"\"\"\n",
    "    num_components = theta.pi.shape[0]\n",
    "    means = theta.mu\n",
    "    covariances = theta.Sigma\n",
    "\n",
    "    n, d = x.shape\n",
    "    gradient_pi = np.zeros(num_components)\n",
    "    gradient_mu = np.zeros((num_components, d))\n",
    "    gradient_sigma = np.zeros((num_components, d, d))\n",
    "\n",
    "    for i in range(n):\n",
    "        likelihoods = np.zeros(num_components)\n",
    "        for j in range(num_components):\n",
    "            likelihoods[j] = theta.pi[j] * multivariate_normal.pdf(x[i], mean=means[j], cov=covariances[j])\n",
    "        likelihoods_sum = np.sum(likelihoods)\n",
    "\n",
    "        # Calculate the responsibilities\n",
    "        responsibilities = likelihoods / likelihoods_sum\n",
    "\n",
    "        # Compute the gradients for each parameter\n",
    "        gradient_pi += responsibilities\n",
    "        for j in range(num_components):\n",
    "            gradient_mu[j] += responsibilities[j] * (x[i] - means[j])\n",
    "            diff = x[i] - means[j]\n",
    "            gradient_sigma[j] += responsibilities[j] * np.outer(diff, diff)\n",
    "\n",
    "    gradient_pi /= n\n",
    "    gradient_mu /= n\n",
    "    gradient_sigma /= n\n",
    "\n",
    "    # Return the gradients\n",
    "    return gradient_pi, gradient_mu, gradient_sigma"
   ]
  },
  {
   "cell_type": "markdown",
   "metadata": {},
   "source": [
    "#### Exercise 3.3.4 (10 points)\n",
    "\n",
    "Based on the saved intermediate values of log-likelihood for the values above, plot and observe the behavior of log-likelihood in each case.\n",
    "Summarize your observations. This execrise is open-ended."
   ]
  },
  {
   "cell_type": "code",
   "execution_count": 198,
   "metadata": {
    "scrolled": true
   },
   "outputs": [
    {
     "data": {
      "image/png": "[encoded data removed]",
      "text/plain": [
       "<Figure size 432x288 with 1 Axes>"
      ]
     },
     "metadata": {
      "needs_background": "light"
     },
     "output_type": "display_data"
    }
   ],
   "source": [
    "# TODO: Plot the intermediate values of log-likelihood in each case\n",
    "import matplotlib.pyplot as plt\n",
    "\n",
    "def plot_log_likelihood(objective_history):\n",
    "    \"\"\"\n",
    "    Plot the intermediate values of log-likelihood.\n",
    "    \"\"\"\n",
    "    plt.plot(objective_history)\n",
    "    plt.xlabel('Iteration')\n",
    "    plt.ylabel('Log-Likelihood')\n",
    "    plt.title('Behavior of Log-Likelihood')\n",
    "    plt.show()\n",
    "\n",
    "theta_updated, objective_history = EM(theta_old, data, n_iter=500)\n",
    "# print(objective_history)\n",
    "plot_log_likelihood(objective_history)\n"
   ]
  },
  {
   "cell_type": "markdown",
   "metadata": {},
   "source": [
    "**[TODO: Write your answer here]**\n",
    "\n",
    "The EM algorithm is not converging or updating the parameters correctly.\n",
    "\n",
    "There could be several reasons why this is happening:\n",
    "\n",
    "Initialization: The initial parameters (theta_old) may not be appropriate for the given data. Initializing the parameters close to the true values or using a different initialization strategy (e.g., random initialization) might help.\n",
    "\n",
    "Implementation: There might be errors in the implementation of the E-step or M-step of the EM algorithm. It's important to double-check the calculations for updating the parameters and ensure they are implemented correctly.\n",
    "\n",
    "Data-related issues: The data itself may pose challenges for the EM algorithm. For example, if the data points are poorly distributed or the clusters are highly overlapping, it can make convergence difficult.\n"
   ]
  },
  {
   "cell_type": "code",
   "execution_count": 200,
   "metadata": {},
   "outputs": [
    {
     "data": {
      "text/plain": [
       "'\\nimport numpy as np\\nimport scipy.stats as stats\\n\\nclass Theta:\\n    def __init__(self, pi, mu, Sigma):\\n        self.pi = pi\\n        self.mu = mu\\n        self.Sigma = Sigma\\n\\ndef compute_log_likelihood1(theta, data):\\n    log_likelihood = 0.0\\n    for x in data:\\n        prob = 0.0\\n        for k in range(len(theta.pi)):\\n            prob += theta.pi[k] * stats.multivariate_normal.pdf(x, theta.mu[k], theta.Sigma[k])\\n        log_likelihood += np.log(prob)\\n    return log_likelihood\\n\\ndef E_step1(theta, data):\\n    # Compute responsibilities\\n    responsibilities = np.zeros((len(data), len(theta.pi)))\\n    for i, x in enumerate(data):\\n        for k in range(len(theta.pi)):\\n            responsibilities[i, k] = theta.pi[k] * stats.multivariate_normal.pdf(x, theta.mu[k], theta.Sigma[k])\\n        responsibilities[i] /= np.sum(responsibilities[i])\\n    return responsibilities\\n\\ndef M_step1(theta, data, responsibilities):\\n    # Update parameters\\n    N_k = np.sum(responsibilities, axis=0)\\n    \\n    new_pi = N_k / len(data)\\n    \\n    new_mu = np.zeros_like(theta.mu)\\n    for k in range(len(theta.pi)):\\n        for i, x in enumerate(data):\\n            new_mu[k] += responsibilities[i, k] * x\\n        new_mu[k] /= N_k[k]\\n    \\n    new_Sigma = np.zeros_like(theta.Sigma)\\n    for k in range(len(theta.pi)):\\n        for i, x in enumerate(data):\\n            diff = x - new_mu[k]\\n            new_Sigma[k] += responsibilities[i, k] * np.outer(diff, diff)\\n        new_Sigma[k] /= N_k[k]\\n\\n    return Theta(new_pi, new_mu, new_Sigma)\\n\\ndef EM_test(theta_old, data, n_iters):\\n    objective_history = []\\n    theta_updated = theta_old\\n    for i in range(n_iters):\\n        # E-step\\n        responsibilities = E_step1(theta_updated, data)\\n\\n        # M-step\\n        theta_updated = M_step1(theta_updated, data, responsibilities)\\n\\n        # Compute log-likelihood\\n        log_likelihood = compute_log_likelihood1(theta_updated, data)\\n        objective_history.append(log_likelihood)\\n\\n    return theta_updated, objective_history\\n\\n# testing\\ntheta_updated, objective_history = EM_test(theta_old, data, n_iters=500)\\nprint(\"Final parameters:\")\\nprint(\"pi:\", theta_updated.pi)\\nprint(\"mu:\", theta_updated.mu)\\nprint(\"Sigma:\", theta_updated.Sigma)\\nprint(\"Objective history:\", objective_history)\\n'"
      ]
     },
     "execution_count": 200,
     "metadata": {},
     "output_type": "execute_result"
    }
   ],
   "source": [
    "# implementated by scipy for testing\n",
    "\"\"\"\n",
    "import numpy as np\n",
    "import scipy.stats as stats\n",
    "\n",
    "class Theta:\n",
    "    def __init__(self, pi, mu, Sigma):\n",
    "        self.pi = pi\n",
    "        self.mu = mu\n",
    "        self.Sigma = Sigma\n",
    "\n",
    "def compute_log_likelihood1(theta, data):\n",
    "    log_likelihood = 0.0\n",
    "    for x in data:\n",
    "        prob = 0.0\n",
    "        for k in range(len(theta.pi)):\n",
    "            prob += theta.pi[k] * stats.multivariate_normal.pdf(x, theta.mu[k], theta.Sigma[k])\n",
    "        log_likelihood += np.log(prob)\n",
    "    return log_likelihood\n",
    "\n",
    "def E_step1(theta, data):\n",
    "    # Compute responsibilities\n",
    "    responsibilities = np.zeros((len(data), len(theta.pi)))\n",
    "    for i, x in enumerate(data):\n",
    "        for k in range(len(theta.pi)):\n",
    "            responsibilities[i, k] = theta.pi[k] * stats.multivariate_normal.pdf(x, theta.mu[k], theta.Sigma[k])\n",
    "        responsibilities[i] /= np.sum(responsibilities[i])\n",
    "    return responsibilities\n",
    "\n",
    "def M_step1(theta, data, responsibilities):\n",
    "    # Update parameters\n",
    "    N_k = np.sum(responsibilities, axis=0)\n",
    "    \n",
    "    new_pi = N_k / len(data)\n",
    "    \n",
    "    new_mu = np.zeros_like(theta.mu)\n",
    "    for k in range(len(theta.pi)):\n",
    "        for i, x in enumerate(data):\n",
    "            new_mu[k] += responsibilities[i, k] * x\n",
    "        new_mu[k] /= N_k[k]\n",
    "    \n",
    "    new_Sigma = np.zeros_like(theta.Sigma)\n",
    "    for k in range(len(theta.pi)):\n",
    "        for i, x in enumerate(data):\n",
    "            diff = x - new_mu[k]\n",
    "            new_Sigma[k] += responsibilities[i, k] * np.outer(diff, diff)\n",
    "        new_Sigma[k] /= N_k[k]\n",
    "\n",
    "    return Theta(new_pi, new_mu, new_Sigma)\n",
    "\n",
    "def EM_test(theta_old, data, n_iters):\n",
    "    objective_history = []\n",
    "    theta_updated = theta_old\n",
    "    for i in range(n_iters):\n",
    "        # E-step\n",
    "        responsibilities = E_step1(theta_updated, data)\n",
    "\n",
    "        # M-step\n",
    "        theta_updated = M_step1(theta_updated, data, responsibilities)\n",
    "\n",
    "        # Compute log-likelihood\n",
    "        log_likelihood = compute_log_likelihood1(theta_updated, data)\n",
    "        objective_history.append(log_likelihood)\n",
    "\n",
    "    return theta_updated, objective_history\n",
    "\n",
    "# testing\n",
    "theta_updated, objective_history = EM_test(theta_old, data, n_iters=500)\n",
    "print(\"Final parameters:\")\n",
    "print(\"pi:\", theta_updated.pi)\n",
    "print(\"mu:\", theta_updated.mu)\n",
    "print(\"Sigma:\", theta_updated.Sigma)\n",
    "print(\"Objective history:\", objective_history)\n",
    "\"\"\""
   ]
  },
  {
   "cell_type": "code",
   "execution_count": null,
   "metadata": {},
   "outputs": [],
   "source": []
  }
 ],
 "metadata": {
  "kernelspec": {
   "display_name": "Python 3 (ipykernel)",
   "language": "python",
   "name": "python3"
  },
  "language_info": {
   "codemirror_mode": {
    "name": "ipython",
    "version": 3
   },
   "file_extension": ".py",
   "mimetype": "text/x-python",
   "name": "python",
   "nbconvert_exporter": "python",
   "pygments_lexer": "ipython3",
   "version": "3.11.5"
  }
 },
 "nbformat": 4,
 "nbformat_minor": 4
}
